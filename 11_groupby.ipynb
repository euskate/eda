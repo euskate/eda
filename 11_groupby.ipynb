{
 "nbformat": 4,
 "nbformat_minor": 2,
 "metadata": {
  "language_info": {
   "name": "python",
   "codemirror_mode": {
    "name": "ipython",
    "version": 3
   },
   "version": "3.7.4-final"
  },
  "orig_nbformat": 2,
  "file_extension": ".py",
  "mimetype": "text/x-python",
  "name": "python",
  "npconvert_exporter": "python",
  "pygments_lexer": "ipython3",
  "version": 3,
  "kernelspec": {
   "name": "python37464bitbaseconda646300c29d484215892dcbe5e024ba5c",
   "display_name": "Python 3.7.4 64-bit ('base': conda)"
  }
 },
 "cells": [
  {
   "source": [
    "import pandas as pd \n",
    "df = pd.read_csv('./data/gapminder.tsv', sep='\\t')"
   ],
   "cell_type": "code",
   "outputs": [],
   "metadata": {},
   "execution_count": 1
  },
  {
   "source": [
    "print(df.info())\n",
    "print(df.shape)"
   ],
   "cell_type": "code",
   "outputs": [
    {
     "output_type": "stream",
     "name": "stdout",
     "text": "<class 'pandas.core.frame.DataFrame'>\nRangeIndex: 1704 entries, 0 to 1703\nData columns (total 6 columns):\ncountry      1704 non-null object\ncontinent    1704 non-null object\nyear         1704 non-null int64\nlifeExp      1704 non-null float64\npop          1704 non-null int64\ngdpPercap    1704 non-null float64\ndtypes: float64(2), int64(2), object(2)\nmemory usage: 80.0+ KB\nNone\n(1704, 6)\n"
    }
   ],
   "metadata": {},
   "execution_count": 3
  },
  {
   "source": [
    "df.groupby('year').lifeExp.mean()"
   ],
   "cell_type": "code",
   "outputs": [
    {
     "output_type": "execute_result",
     "data": {
      "text/plain": "year\n1952    49.057620\n1957    51.507401\n1962    53.609249\n1967    55.678290\n1972    57.647386\n1977    59.570157\n1982    61.533197\n1987    63.212613\n1992    64.160338\n1997    65.014676\n2002    65.694923\n2007    67.007423\nName: lifeExp, dtype: float64"
     },
     "metadata": {},
     "execution_count": 4
    }
   ],
   "metadata": {},
   "execution_count": 4
  },
  {
   "source": [
    "df.year.unique()"
   ],
   "cell_type": "code",
   "outputs": [
    {
     "output_type": "execute_result",
     "data": {
      "text/plain": "array([1952, 1957, 1962, 1967, 1972, 1977, 1982, 1987, 1992, 1997, 2002,\n       2007], dtype=int64)"
     },
     "metadata": {},
     "execution_count": 7
    }
   ],
   "metadata": {},
   "execution_count": 7
  },
  {
   "source": [
    "df.loc[df.year == 1952, :]"
   ],
   "cell_type": "code",
   "outputs": [
    {
     "output_type": "execute_result",
     "data": {
      "text/plain": "                 country continent  year  lifeExp       pop    gdpPercap\n0            Afghanistan      Asia  1952   28.801   8425333   779.445314\n12               Albania    Europe  1952   55.230   1282697  1601.056136\n24               Algeria    Africa  1952   43.077   9279525  2449.008185\n36                Angola    Africa  1952   30.015   4232095  3520.610273\n48             Argentina  Americas  1952   62.485  17876956  5911.315053\n...                  ...       ...   ...      ...       ...          ...\n1644             Vietnam      Asia  1952   40.412  26246839   605.066492\n1656  West Bank and Gaza      Asia  1952   43.160   1030585  1515.592329\n1668         Yemen, Rep.      Asia  1952   32.548   4963829   781.717576\n1680              Zambia    Africa  1952   42.038   2672000  1147.388831\n1692            Zimbabwe    Africa  1952   48.451   3080907   406.884115\n\n[142 rows x 6 columns]",
      "text/html": "<div>\n<style scoped>\n    .dataframe tbody tr th:only-of-type {\n        vertical-align: middle;\n    }\n\n    .dataframe tbody tr th {\n        vertical-align: top;\n    }\n\n    .dataframe thead th {\n        text-align: right;\n    }\n</style>\n<table border=\"1\" class=\"dataframe\">\n  <thead>\n    <tr style=\"text-align: right;\">\n      <th></th>\n      <th>country</th>\n      <th>continent</th>\n      <th>year</th>\n      <th>lifeExp</th>\n      <th>pop</th>\n      <th>gdpPercap</th>\n    </tr>\n  </thead>\n  <tbody>\n    <tr>\n      <td>0</td>\n      <td>Afghanistan</td>\n      <td>Asia</td>\n      <td>1952</td>\n      <td>28.801</td>\n      <td>8425333</td>\n      <td>779.445314</td>\n    </tr>\n    <tr>\n      <td>12</td>\n      <td>Albania</td>\n      <td>Europe</td>\n      <td>1952</td>\n      <td>55.230</td>\n      <td>1282697</td>\n      <td>1601.056136</td>\n    </tr>\n    <tr>\n      <td>24</td>\n      <td>Algeria</td>\n      <td>Africa</td>\n      <td>1952</td>\n      <td>43.077</td>\n      <td>9279525</td>\n      <td>2449.008185</td>\n    </tr>\n    <tr>\n      <td>36</td>\n      <td>Angola</td>\n      <td>Africa</td>\n      <td>1952</td>\n      <td>30.015</td>\n      <td>4232095</td>\n      <td>3520.610273</td>\n    </tr>\n    <tr>\n      <td>48</td>\n      <td>Argentina</td>\n      <td>Americas</td>\n      <td>1952</td>\n      <td>62.485</td>\n      <td>17876956</td>\n      <td>5911.315053</td>\n    </tr>\n    <tr>\n      <td>...</td>\n      <td>...</td>\n      <td>...</td>\n      <td>...</td>\n      <td>...</td>\n      <td>...</td>\n      <td>...</td>\n    </tr>\n    <tr>\n      <td>1644</td>\n      <td>Vietnam</td>\n      <td>Asia</td>\n      <td>1952</td>\n      <td>40.412</td>\n      <td>26246839</td>\n      <td>605.066492</td>\n    </tr>\n    <tr>\n      <td>1656</td>\n      <td>West Bank and Gaza</td>\n      <td>Asia</td>\n      <td>1952</td>\n      <td>43.160</td>\n      <td>1030585</td>\n      <td>1515.592329</td>\n    </tr>\n    <tr>\n      <td>1668</td>\n      <td>Yemen, Rep.</td>\n      <td>Asia</td>\n      <td>1952</td>\n      <td>32.548</td>\n      <td>4963829</td>\n      <td>781.717576</td>\n    </tr>\n    <tr>\n      <td>1680</td>\n      <td>Zambia</td>\n      <td>Africa</td>\n      <td>1952</td>\n      <td>42.038</td>\n      <td>2672000</td>\n      <td>1147.388831</td>\n    </tr>\n    <tr>\n      <td>1692</td>\n      <td>Zimbabwe</td>\n      <td>Africa</td>\n      <td>1952</td>\n      <td>48.451</td>\n      <td>3080907</td>\n      <td>406.884115</td>\n    </tr>\n  </tbody>\n</table>\n<p>142 rows × 6 columns</p>\n</div>"
     },
     "metadata": {},
     "execution_count": 11
    }
   ],
   "metadata": {},
   "execution_count": 11
  },
  {
   "source": [
    "def my_mean(values):\n",
    "    n = len(values)\n",
    "    \n",
    "    sum = 0 \n",
    "    for value in values:\n",
    "        sum += value\n",
    "    \n",
    "    return sum / n"
   ],
   "cell_type": "code",
   "outputs": [],
   "metadata": {},
   "execution_count": 12
  },
  {
   "source": [
    "agg_my_mean = df.groupby('year').lifeExp.agg(my_mean) \n",
    "print(agg_my_mean)"
   ],
   "cell_type": "code",
   "outputs": [
    {
     "output_type": "stream",
     "name": "stdout",
     "text": "year\n1952    49.057620\n1957    51.507401\n1962    53.609249\n1967    55.678290\n1972    57.647386\n1977    59.570157\n1982    61.533197\n1987    63.212613\n1992    64.160338\n1997    65.014676\n2002    65.694923\n2007    67.007423\nName: lifeExp, dtype: float64\n"
    }
   ],
   "metadata": {},
   "execution_count": 13
  },
  {
   "source": [
    "agg_my_mean = df.groupby('year').lifeExp.agg(my_mean) \n",
    "print(agg_my_mean)"
   ],
   "cell_type": "code",
   "outputs": [
    {
     "output_type": "stream",
     "name": "stdout",
     "text": "year\n1952    49.057620\n1957    51.507401\n1962    53.609249\n1967    55.678290\n1972    57.647386\n1977    59.570157\n1982    61.533197\n1987    63.212613\n1992    64.160338\n1997    65.014676\n2002    65.694923\n2007    67.007423\nName: lifeExp, dtype: float64\n"
    }
   ],
   "metadata": {},
   "execution_count": 14
  },
  {
   "source": [
    "def my_mean_diff(values, diff_value):\n",
    "    n = len(values) \n",
    "    sum = 0 \n",
    "    for value in values:\n",
    "        sum += value \n",
    "    mean = sum / n \n",
    "    return mean - diff_value"
   ],
   "cell_type": "code",
   "outputs": [],
   "metadata": {},
   "execution_count": 15
  },
  {
   "source": [
    "global_mean = df.lifeExp.mean() \n",
    "print(global_mean)"
   ],
   "cell_type": "code",
   "outputs": [
    {
     "output_type": "stream",
     "name": "stdout",
     "text": "59.47443936619713\n"
    }
   ],
   "metadata": {},
   "execution_count": 16
  },
  {
   "source": [
    "agg_mean_diff = df.groupby('year').lifeExp.agg(my_mean_diff, diff_value=global_mean) \n",
    "print(agg_mean_diff)"
   ],
   "cell_type": "code",
   "outputs": [
    {
     "output_type": "stream",
     "name": "stdout",
     "text": "year\n1952   -10.416820\n1957    -7.967038\n1962    -5.865190\n1967    -3.796150\n1972    -1.827053\n1977     0.095718\n1982     2.058758\n1987     3.738173\n1992     4.685899\n1997     5.540237\n2002     6.220483\n2007     7.532983\nName: lifeExp, dtype: float64\n"
    }
   ],
   "metadata": {},
   "execution_count": 17
  },
  {
   "source": [
    "df.groupby('year')"
   ],
   "cell_type": "code",
   "outputs": [
    {
     "output_type": "execute_result",
     "data": {
      "text/plain": "<pandas.core.groupby.generic.DataFrameGroupBy object at 0x00000202CAAB9208>"
     },
     "metadata": {},
     "execution_count": 18
    }
   ],
   "metadata": {},
   "execution_count": 18
  },
  {
   "source": [
    "import numpy as np\n",
    "gdf = df.groupby('year').lifeExp.agg([np.count_nonzero, np.mean, np.std]) \n",
    "print(gdf)"
   ],
   "cell_type": "code",
   "outputs": [
    {
     "output_type": "stream",
     "name": "stdout",
     "text": "count_nonzero       mean        std\nyear                                     \n1952          142.0  49.057620  12.225956\n1957          142.0  51.507401  12.231286\n1962          142.0  53.609249  12.097245\n1967          142.0  55.678290  11.718858\n1972          142.0  57.647386  11.381953\n1977          142.0  59.570157  11.227229\n1982          142.0  61.533197  10.770618\n1987          142.0  63.212613  10.556285\n1992          142.0  64.160338  11.227380\n1997          142.0  65.014676  11.559439\n2002          142.0  65.694923  12.279823\n2007          142.0  67.007423  12.073021\n"
    }
   ],
   "metadata": {},
   "execution_count": 19
  },
  {
   "source": [
    "type(gdf)"
   ],
   "cell_type": "code",
   "outputs": [
    {
     "output_type": "execute_result",
     "data": {
      "text/plain": "pandas.core.frame.DataFrame"
     },
     "metadata": {},
     "execution_count": 20
    }
   ],
   "metadata": {},
   "execution_count": 20
  },
  {
   "source": [
    "gdf_dict = df.groupby('year').agg({'lifeExp': 'mean', 'pop': 'median', 'gdpPercap': 'median'}) \n",
    "gdf_dict"
   ],
   "cell_type": "code",
   "outputs": [
    {
     "output_type": "execute_result",
     "data": {
      "text/plain": "        lifeExp         pop    gdpPercap\nyear                                    \n1952  49.057620   3943953.0  1968.528344\n1957  51.507401   4282942.0  2173.220291\n1962  53.609249   4686039.5  2335.439533\n1967  55.678290   5170175.5  2678.334741\n1972  57.647386   5877996.5  3339.129407\n1977  59.570157   6404036.5  3798.609244\n1982  61.533197   7007320.0  4216.228428\n1987  63.212613   7774861.5  4280.300366\n1992  64.160338   8688686.5  4386.085502\n1997  65.014676   9735063.5  4781.825478\n2002  65.694923  10372918.5  5319.804524\n2007  67.007423  10517531.0  6124.371109",
      "text/html": "<div>\n<style scoped>\n    .dataframe tbody tr th:only-of-type {\n        vertical-align: middle;\n    }\n\n    .dataframe tbody tr th {\n        vertical-align: top;\n    }\n\n    .dataframe thead th {\n        text-align: right;\n    }\n</style>\n<table border=\"1\" class=\"dataframe\">\n  <thead>\n    <tr style=\"text-align: right;\">\n      <th></th>\n      <th>lifeExp</th>\n      <th>pop</th>\n      <th>gdpPercap</th>\n    </tr>\n    <tr>\n      <th>year</th>\n      <th></th>\n      <th></th>\n      <th></th>\n    </tr>\n  </thead>\n  <tbody>\n    <tr>\n      <td>1952</td>\n      <td>49.057620</td>\n      <td>3943953.0</td>\n      <td>1968.528344</td>\n    </tr>\n    <tr>\n      <td>1957</td>\n      <td>51.507401</td>\n      <td>4282942.0</td>\n      <td>2173.220291</td>\n    </tr>\n    <tr>\n      <td>1962</td>\n      <td>53.609249</td>\n      <td>4686039.5</td>\n      <td>2335.439533</td>\n    </tr>\n    <tr>\n      <td>1967</td>\n      <td>55.678290</td>\n      <td>5170175.5</td>\n      <td>2678.334741</td>\n    </tr>\n    <tr>\n      <td>1972</td>\n      <td>57.647386</td>\n      <td>5877996.5</td>\n      <td>3339.129407</td>\n    </tr>\n    <tr>\n      <td>1977</td>\n      <td>59.570157</td>\n      <td>6404036.5</td>\n      <td>3798.609244</td>\n    </tr>\n    <tr>\n      <td>1982</td>\n      <td>61.533197</td>\n      <td>7007320.0</td>\n      <td>4216.228428</td>\n    </tr>\n    <tr>\n      <td>1987</td>\n      <td>63.212613</td>\n      <td>7774861.5</td>\n      <td>4280.300366</td>\n    </tr>\n    <tr>\n      <td>1992</td>\n      <td>64.160338</td>\n      <td>8688686.5</td>\n      <td>4386.085502</td>\n    </tr>\n    <tr>\n      <td>1997</td>\n      <td>65.014676</td>\n      <td>9735063.5</td>\n      <td>4781.825478</td>\n    </tr>\n    <tr>\n      <td>2002</td>\n      <td>65.694923</td>\n      <td>10372918.5</td>\n      <td>5319.804524</td>\n    </tr>\n    <tr>\n      <td>2007</td>\n      <td>67.007423</td>\n      <td>10517531.0</td>\n      <td>6124.371109</td>\n    </tr>\n  </tbody>\n</table>\n</div>"
     },
     "metadata": {},
     "execution_count": 22
    }
   ],
   "metadata": {},
   "execution_count": 22
  },
  {
   "source": [
    "df.columns"
   ],
   "cell_type": "code",
   "outputs": [
    {
     "output_type": "execute_result",
     "data": {
      "text/plain": "Index(['country', 'continent', 'year', 'lifeExp', 'pop', 'gdpPercap'], dtype='object')"
     },
     "metadata": {},
     "execution_count": 23
    }
   ],
   "metadata": {},
   "execution_count": 23
  },
  {
   "source": [
    "def my_zscore(x):\n",
    "    return (x - x.mean()) / x.std()"
   ],
   "cell_type": "code",
   "outputs": [],
   "metadata": {},
   "execution_count": 24
  },
  {
   "source": [
    "transform_z = df.groupby('year').lifeExp.transform(my_zscore)\n",
    "\n",
    "print(transform_z.head())"
   ],
   "cell_type": "code",
   "outputs": [
    {
     "output_type": "stream",
     "name": "stdout",
     "text": "0   -1.656854\n1   -1.731249\n2   -1.786543\n3   -1.848157\n4   -1.894173\nName: lifeExp, dtype: float64\n"
    }
   ],
   "metadata": {},
   "execution_count": 25
  },
  {
   "cell_type": "code",
   "execution_count": null,
   "metadata": {},
   "outputs": [],
   "source": []
  }
 ]
}