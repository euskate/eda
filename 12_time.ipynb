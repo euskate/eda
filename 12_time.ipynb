{
 "nbformat": 4,
 "nbformat_minor": 2,
 "metadata": {
  "language_info": {
   "name": "python",
   "codemirror_mode": {
    "name": "ipython",
    "version": 3
   },
   "version": "3.7.4-final"
  },
  "orig_nbformat": 2,
  "file_extension": ".py",
  "mimetype": "text/x-python",
  "name": "python",
  "npconvert_exporter": "python",
  "pygments_lexer": "ipython3",
  "version": 3,
  "kernelspec": {
   "name": "python37464bitbaseconda646300c29d484215892dcbe5e024ba5c",
   "display_name": "Python 3.7.4 64-bit ('base': conda)"
  }
 },
 "cells": [
  {
   "cell_type": "code",
   "execution_count": 1,
   "metadata": {},
   "outputs": [],
   "source": [
    "from datetime import datetime"
   ]
  },
  {
   "cell_type": "code",
   "execution_count": 2,
   "metadata": {},
   "outputs": [
    {
     "name": "stdout",
     "output_type": "stream",
     "text": "2020-02-03 15:13:12.030911\n"
    }
   ],
   "source": [
    "now1 = datetime.now() \n",
    "print(now1)"
   ]
  },
  {
   "cell_type": "code",
   "execution_count": 3,
   "metadata": {},
   "outputs": [
    {
     "name": "stdout",
     "output_type": "stream",
     "text": "2020-02-03 15:13:32.337307\n"
    }
   ],
   "source": [
    "now2 = datetime.today()\n",
    "print(now2) "
   ]
  },
  {
   "cell_type": "code",
   "execution_count": 4,
   "metadata": {},
   "outputs": [
    {
     "name": "stdout",
     "output_type": "stream",
     "text": "2020-02-03 15:14:17.502510\n1970-01-01 00:00:00\n1970-12-12 13:24:34\n"
    }
   ],
   "source": [
    "t1 = datetime.now() \n",
    "t2 = datetime(1970, 1, 1)\n",
    "t3 = datetime(1970, 12, 12, 13, 24, 34)\n",
    "\n",
    "print(t1)\n",
    "print(t2)\n",
    "print(t3)"
   ]
  },
  {
   "cell_type": "code",
   "execution_count": 5,
   "metadata": {},
   "outputs": [
    {
     "name": "stdout",
     "output_type": "stream",
     "text": "18295 days, 15:14:17.502510\n<class 'datetime.timedelta'>\n"
    }
   ],
   "source": [
    "diff1 = t1 - t2\n",
    "\n",
    "print(diff1)\n",
    "print(type(diff1))"
   ]
  },
  {
   "cell_type": "code",
   "execution_count": 6,
   "metadata": {},
   "outputs": [
    {
     "name": "stdout",
     "output_type": "stream",
     "text": "-18296 days, 8:45:42.497490\n<class 'datetime.timedelta'>\n"
    }
   ],
   "source": [
    "diff2 = t2 - t1\n",
    "\n",
    "print(diff2)\n",
    "print(type(diff2))"
   ]
  },
  {
   "source": [
    "import pandas as pd \n",
    "import os\n",
    "ebola = pd.read_csv('./data/country_timeseries.csv')"
   ],
   "cell_type": "code",
   "outputs": [],
   "metadata": {},
   "execution_count": 1
  },
  {
   "source": [
    "ebola.info()"
   ],
   "cell_type": "code",
   "outputs": [
    {
     "output_type": "stream",
     "name": "stdout",
     "text": "<class 'pandas.core.frame.DataFrame'>\nRangeIndex: 122 entries, 0 to 121\nData columns (total 18 columns):\nDate                   122 non-null object\nDay                    122 non-null int64\nCases_Guinea           93 non-null float64\nCases_Liberia          83 non-null float64\nCases_SierraLeone      87 non-null float64\nCases_Nigeria          38 non-null float64\nCases_Senegal          25 non-null float64\nCases_UnitedStates     18 non-null float64\nCases_Spain            16 non-null float64\nCases_Mali             12 non-null float64\nDeaths_Guinea          92 non-null float64\nDeaths_Liberia         81 non-null float64\nDeaths_SierraLeone     87 non-null float64\nDeaths_Nigeria         38 non-null float64\nDeaths_Senegal         22 non-null float64\nDeaths_UnitedStates    18 non-null float64\nDeaths_Spain           16 non-null float64\nDeaths_Mali            12 non-null float64\ndtypes: float64(16), int64(1), object(1)\nmemory usage: 17.3+ KB\n"
    }
   ],
   "metadata": {},
   "execution_count": 3
  },
  {
   "source": [
    "ebola['date_dt'] = pd.to_datetime(ebola['Date'])\n",
    "print(ebola.info())"
   ],
   "cell_type": "code",
   "outputs": [
    {
     "output_type": "stream",
     "name": "stdout",
     "text": "<class 'pandas.core.frame.DataFrame'>\nRangeIndex: 122 entries, 0 to 121\nData columns (total 19 columns):\nDate                   122 non-null object\nDay                    122 non-null int64\nCases_Guinea           93 non-null float64\nCases_Liberia          83 non-null float64\nCases_SierraLeone      87 non-null float64\nCases_Nigeria          38 non-null float64\nCases_Senegal          25 non-null float64\nCases_UnitedStates     18 non-null float64\nCases_Spain            16 non-null float64\nCases_Mali             12 non-null float64\nDeaths_Guinea          92 non-null float64\nDeaths_Liberia         81 non-null float64\nDeaths_SierraLeone     87 non-null float64\nDeaths_Nigeria         38 non-null float64\nDeaths_Senegal         22 non-null float64\nDeaths_UnitedStates    18 non-null float64\nDeaths_Spain           16 non-null float64\nDeaths_Mali            12 non-null float64\ndate_dt                122 non-null datetime64[ns]\ndtypes: datetime64[ns](1), float64(16), int64(1), object(1)\nmemory usage: 18.2+ KB\nNone\n"
    }
   ],
   "metadata": {},
   "execution_count": 4
  },
  {
   "source": [
    "test_df1 = pd.DataFrame({'order_day':['01/01/15', '02/01/15', '03/01/15']})\n",
    "\n",
    "test_df1['date_dt1'] = pd.to_datetime(test_df1['order_day'], format='%d/%m/%y')\n",
    "test_df1['date_dt2'] = pd.to_datetime(test_df1['order_day'], format='%m/%d/%y')\n",
    "test_df1['date_dt3'] = pd.to_datetime(test_df1['order_day'], format='%y/%m/%d')\n",
    "\n",
    "print(test_df1)"
   ],
   "cell_type": "code",
   "outputs": [
    {
     "output_type": "stream",
     "name": "stdout",
     "text": "order_day   date_dt1   date_dt2   date_dt3\n0  01/01/15 2015-01-01 2015-01-01 2001-01-15\n1  02/01/15 2015-01-02 2015-02-01 2002-01-15\n2  03/01/15 2015-01-03 2015-03-01 2003-01-15\n"
    }
   ],
   "metadata": {},
   "execution_count": 5
  },
  {
   "source": [],
   "cell_type": "code",
   "outputs": [
    {
     "output_type": "error",
     "ename": "NameError",
     "evalue": "name 'datetime' is not defined",
     "traceback": [
      "\u001b[1;31m---------------------------------------------------------------------------\u001b[0m",
      "\u001b[1;31mNameError\u001b[0m                                 Traceback (most recent call last)",
      "\u001b[1;32m<ipython-input-6-7c93451310f3>\u001b[0m in \u001b[0;36m<module>\u001b[1;34m\u001b[0m\n\u001b[1;32m----> 1\u001b[1;33m \u001b[0mnow\u001b[0m \u001b[1;33m=\u001b[0m \u001b[0mdatetime\u001b[0m\u001b[1;33m.\u001b[0m\u001b[0mnow\u001b[0m\u001b[1;33m(\u001b[0m\u001b[1;33m)\u001b[0m\u001b[1;33m\u001b[0m\u001b[1;33m\u001b[0m\u001b[0m\n\u001b[0m\u001b[0;32m      2\u001b[0m \u001b[0mprint\u001b[0m\u001b[1;33m(\u001b[0m\u001b[0mnow\u001b[0m\u001b[1;33m)\u001b[0m\u001b[1;33m\u001b[0m\u001b[1;33m\u001b[0m\u001b[0m\n",
      "\u001b[1;31mNameError\u001b[0m: name 'datetime' is not defined"
     ]
    }
   ],
   "metadata": {},
   "execution_count": 6
  },
  {
   "source": [
    "from datetime import datetime"
   ],
   "cell_type": "code",
   "outputs": [],
   "metadata": {},
   "execution_count": 7
  },
  {
   "source": [
    "now = datetime.now()\n",
    "print(now)\n",
    "print(type(now))"
   ],
   "cell_type": "code",
   "outputs": [
    {
     "output_type": "stream",
     "name": "stdout",
     "text": "2020-02-03 15:25:32.518865\n<class 'datetime.datetime'>\n"
    }
   ],
   "metadata": {},
   "execution_count": 13
  },
  {
   "source": [
    "nowDate = now.strftime('%Y-%m-%d')\n",
    "print(nowDate)\n",
    "print(type(nowDate))"
   ],
   "cell_type": "code",
   "outputs": [
    {
     "output_type": "stream",
     "name": "stdout",
     "text": "2020-02-03\n<class 'str'>\n"
    }
   ],
   "metadata": {},
   "execution_count": 14
  },
  {
   "source": [
    "nowDatetime = now.strftime('%Y-%m-%d %H:%M:%S')\n",
    "print(nowDatetime)\n",
    "print(type(nowDatetime))"
   ],
   "cell_type": "code",
   "outputs": [
    {
     "output_type": "stream",
     "name": "stdout",
     "text": "2020-02-03 15:25:32\n<class 'str'>\n"
    }
   ],
   "metadata": {},
   "execution_count": 15
  },
  {
   "source": [
    "date_series = pd.Series(['2018-05-16', '2018-05-17', '2018-05-18'])\n",
    "d1 = pd.to_datetime(date_series) \n",
    "print(d1)\n",
    "d1.dtype"
   ],
   "cell_type": "code",
   "outputs": [
    {
     "output_type": "stream",
     "name": "stdout",
     "text": "0   2018-05-16\n1   2018-05-17\n2   2018-05-18\ndtype: datetime64[ns]\n"
    },
    {
     "output_type": "execute_result",
     "data": {
      "text/plain": "dtype('<M8[ns]')"
     },
     "metadata": {},
     "execution_count": 21
    }
   ],
   "metadata": {},
   "execution_count": 21
  },
  {
   "source": [
    "type(d1[0].year)"
   ],
   "cell_type": "code",
   "outputs": [
    {
     "output_type": "execute_result",
     "data": {
      "text/plain": "int"
     },
     "metadata": {},
     "execution_count": 25
    }
   ],
   "metadata": {},
   "execution_count": 25
  },
  {
   "source": [
    "d1[0].year"
   ],
   "cell_type": "code",
   "outputs": [
    {
     "output_type": "execute_result",
     "data": {
      "text/plain": "2018"
     },
     "metadata": {},
     "execution_count": 26
    }
   ],
   "metadata": {},
   "execution_count": 26
  },
  {
   "source": [
    "ebola[['Date', 'date_dt']].head()"
   ],
   "cell_type": "code",
   "outputs": [
    {
     "output_type": "execute_result",
     "data": {
      "text/plain": "         Date    date_dt\n0    1/5/2015 2015-01-05\n1    1/4/2015 2015-01-04\n2    1/3/2015 2015-01-03\n3    1/2/2015 2015-01-02\n4  12/31/2014 2014-12-31",
      "text/html": "<div>\n<style scoped>\n    .dataframe tbody tr th:only-of-type {\n        vertical-align: middle;\n    }\n\n    .dataframe tbody tr th {\n        vertical-align: top;\n    }\n\n    .dataframe thead th {\n        text-align: right;\n    }\n</style>\n<table border=\"1\" class=\"dataframe\">\n  <thead>\n    <tr style=\"text-align: right;\">\n      <th></th>\n      <th>Date</th>\n      <th>date_dt</th>\n    </tr>\n  </thead>\n  <tbody>\n    <tr>\n      <td>0</td>\n      <td>1/5/2015</td>\n      <td>2015-01-05</td>\n    </tr>\n    <tr>\n      <td>1</td>\n      <td>1/4/2015</td>\n      <td>2015-01-04</td>\n    </tr>\n    <tr>\n      <td>2</td>\n      <td>1/3/2015</td>\n      <td>2015-01-03</td>\n    </tr>\n    <tr>\n      <td>3</td>\n      <td>1/2/2015</td>\n      <td>2015-01-02</td>\n    </tr>\n    <tr>\n      <td>4</td>\n      <td>12/31/2014</td>\n      <td>2014-12-31</td>\n    </tr>\n  </tbody>\n</table>\n</div>"
     },
     "metadata": {},
     "execution_count": 28
    }
   ],
   "metadata": {},
   "execution_count": 28
  },
  {
   "source": [
    "ebola['year'] = ebola['date_dt'].dt.year\n",
    "print(ebola[['Date', 'date_dt', 'year']].head())\n",
    ""
   ],
   "cell_type": "code",
   "outputs": [
    {
     "output_type": "stream",
     "name": "stdout",
     "text": "Date    date_dt  year\n0    1/5/2015 2015-01-05  2015\n1    1/4/2015 2015-01-04  2015\n2    1/3/2015 2015-01-03  2015\n3    1/2/2015 2015-01-02  2015\n4  12/31/2014 2014-12-31  2014\n"
    }
   ],
   "metadata": {},
   "execution_count": 30
  },
  {
   "source": [
    "ebola['month'], ebola['day'] = (ebola['date_dt'].dt.month, ebola['date_dt'].dt.day)\n",
    "\n",
    "print(ebola[['Date', 'date_dt', 'year', 'month', 'day']].head())"
   ],
   "cell_type": "code",
   "outputs": [
    {
     "output_type": "stream",
     "name": "stdout",
     "text": "Date    date_dt  year  month  day\n0    1/5/2015 2015-01-05  2015      1    5\n1    1/4/2015 2015-01-04  2015      1    4\n2    1/3/2015 2015-01-03  2015      1    3\n3    1/2/2015 2015-01-02  2015      1    2\n4  12/31/2014 2014-12-31  2014     12   31\n"
    }
   ],
   "metadata": {},
   "execution_count": 31
  },
  {
   "source": [
    "print(ebola.info())"
   ],
   "cell_type": "code",
   "outputs": [
    {
     "output_type": "stream",
     "name": "stdout",
     "text": "<class 'pandas.core.frame.DataFrame'>\nRangeIndex: 122 entries, 0 to 121\nData columns (total 22 columns):\nDate                   122 non-null object\nDay                    122 non-null int64\nCases_Guinea           93 non-null float64\nCases_Liberia          83 non-null float64\nCases_SierraLeone      87 non-null float64\nCases_Nigeria          38 non-null float64\nCases_Senegal          25 non-null float64\nCases_UnitedStates     18 non-null float64\nCases_Spain            16 non-null float64\nCases_Mali             12 non-null float64\nDeaths_Guinea          92 non-null float64\nDeaths_Liberia         81 non-null float64\nDeaths_SierraLeone     87 non-null float64\nDeaths_Nigeria         38 non-null float64\nDeaths_Senegal         22 non-null float64\nDeaths_UnitedStates    18 non-null float64\nDeaths_Spain           16 non-null float64\nDeaths_Mali            12 non-null float64\ndate_dt                122 non-null datetime64[ns]\nmonth                  122 non-null int64\nday                    122 non-null int64\nyear                   122 non-null int64\ndtypes: datetime64[ns](1), float64(16), int64(4), object(1)\nmemory usage: 21.1+ KB\nNone\n"
    }
   ],
   "metadata": {},
   "execution_count": 32
  },
  {
   "source": [
    "print(ebola.iloc[-5:, :5])"
   ],
   "cell_type": "code",
   "outputs": [
    {
     "output_type": "stream",
     "name": "stdout",
     "text": "Date  Day  Cases_Guinea  Cases_Liberia  Cases_SierraLeone\n117  3/27/2014    5         103.0            8.0                6.0\n118  3/26/2014    4          86.0            NaN                NaN\n119  3/25/2014    3          86.0            NaN                NaN\n120  3/24/2014    2          86.0            NaN                NaN\n121  3/22/2014    0          49.0            NaN                NaN\n"
    }
   ],
   "metadata": {},
   "execution_count": 33
  },
  {
   "source": [
    "print(ebola['date_dt'].min())\n",
    "print(type(ebola['date_dt'].min()))"
   ],
   "cell_type": "code",
   "outputs": [
    {
     "output_type": "stream",
     "name": "stdout",
     "text": "2014-03-22 00:00:00\n<class 'pandas._libs.tslibs.timestamps.Timestamp'>\n"
    }
   ],
   "metadata": {},
   "execution_count": 34
  },
  {
   "source": [
    "ebola['outbreak_d'] = ebola['date_dt'] - ebola['date_dt'].min()\n",
    "\n",
    "print(ebola[['Date', 'Day', 'outbreak_d']].head())"
   ],
   "cell_type": "code",
   "outputs": [
    {
     "output_type": "stream",
     "name": "stdout",
     "text": "Date  Day outbreak_d\n0    1/5/2015  289   289 days\n1    1/4/2015  288   288 days\n2    1/3/2015  287   287 days\n3    1/2/2015  286   286 days\n4  12/31/2014  284   284 days\n"
    }
   ],
   "metadata": {},
   "execution_count": 35
  },
  {
   "cell_type": "code",
   "execution_count": null,
   "metadata": {},
   "outputs": [],
   "source": []
  }
 ]
}