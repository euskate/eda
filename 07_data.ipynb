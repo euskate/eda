{
 "nbformat": 4,
 "nbformat_minor": 2,
 "metadata": {
  "language_info": {
   "name": "python",
   "codemirror_mode": {
    "name": "ipython",
    "version": 3
   },
   "version": "3.7.4-final"
  },
  "orig_nbformat": 2,
  "file_extension": ".py",
  "mimetype": "text/x-python",
  "name": "python",
  "npconvert_exporter": "python",
  "pygments_lexer": "ipython3",
  "version": 3,
  "kernelspec": {
   "name": "python37464bitbaseconda646300c29d484215892dcbe5e024ba5c",
   "display_name": "Python 3.7.4 64-bit ('base': conda)"
  }
 },
 "cells": [
  {
   "cell_type": "code",
   "execution_count": 2,
   "metadata": {},
   "outputs": [
    {
     "name": "stdout",
     "output_type": "stream",
     "text": "religion  <$10k  $10-20k  $20-30k  $30-40k  $40-50k  $50-75k  \\\n0            Agnostic     27       34       60       81       76      137   \n1             Atheist     12       27       37       52       35       70   \n2            Buddhist     27       21       30       34       33       58   \n3            Catholic    418      617      732      670      638     1116   \n4  Don’t know/refused     15       14       15       11       10       35   \n\n   $75-100k  $100-150k  >150k  Don't know/refused  \n0       122        109     84                  96  \n1        73         59     74                  76  \n2        62         39     53                  54  \n3       949        792    633                1489  \n4        21         17     18                 116  \n"
    }
   ],
   "source": [
    "import pandas as pd\n",
    "pew = pd.read_csv('./data/pew.csv')\n",
    "print(pew.head())"
   ]
  },
  {
   "cell_type": "markdown",
   "execution_count": null,
   "metadata": {},
   "outputs": [],
   "source": [
    "- .melt method! **매우 유용함**\n",
    "  - 컬럼으로 된 것을 로우로 바꾼다!!\n",
    "  - melt 메서드의 인자\n",
    "    - id_vars : 그대로 유지 (고정할 컬럼)\n",
    "    - value_vars : 컬럼을 로우로 위치를 변경 (바꿀 컬럼)\n",
    "    - var_name : 바꾼 열의 이름을 지정\n",
    "    - value_name : 바꾼 열의 이름을 지정"
   ]
  },
  {
   "cell_type": "code",
   "execution_count": 3,
   "metadata": {},
   "outputs": [
    {
     "data": {
      "text/html": "<div>\n<style scoped>\n    .dataframe tbody tr th:only-of-type {\n        vertical-align: middle;\n    }\n\n    .dataframe tbody tr th {\n        vertical-align: top;\n    }\n\n    .dataframe thead th {\n        text-align: right;\n    }\n</style>\n<table border=\"1\" class=\"dataframe\">\n  <thead>\n    <tr style=\"text-align: right;\">\n      <th></th>\n      <th>religion</th>\n      <th>&lt;$10k</th>\n      <th>$10-20k</th>\n      <th>$20-30k</th>\n      <th>$30-40k</th>\n      <th>$40-50k</th>\n    </tr>\n  </thead>\n  <tbody>\n    <tr>\n      <td>0</td>\n      <td>Agnostic</td>\n      <td>27</td>\n      <td>34</td>\n      <td>60</td>\n      <td>81</td>\n      <td>76</td>\n    </tr>\n    <tr>\n      <td>1</td>\n      <td>Atheist</td>\n      <td>12</td>\n      <td>27</td>\n      <td>37</td>\n      <td>52</td>\n      <td>35</td>\n    </tr>\n    <tr>\n      <td>2</td>\n      <td>Buddhist</td>\n      <td>27</td>\n      <td>21</td>\n      <td>30</td>\n      <td>34</td>\n      <td>33</td>\n    </tr>\n    <tr>\n      <td>3</td>\n      <td>Catholic</td>\n      <td>418</td>\n      <td>617</td>\n      <td>732</td>\n      <td>670</td>\n      <td>638</td>\n    </tr>\n    <tr>\n      <td>4</td>\n      <td>Don’t know/refused</td>\n      <td>15</td>\n      <td>14</td>\n      <td>15</td>\n      <td>11</td>\n      <td>10</td>\n    </tr>\n    <tr>\n      <td>5</td>\n      <td>Evangelical Prot</td>\n      <td>575</td>\n      <td>869</td>\n      <td>1064</td>\n      <td>982</td>\n      <td>881</td>\n    </tr>\n    <tr>\n      <td>6</td>\n      <td>Hindu</td>\n      <td>1</td>\n      <td>9</td>\n      <td>7</td>\n      <td>9</td>\n      <td>11</td>\n    </tr>\n    <tr>\n      <td>7</td>\n      <td>Historically Black Prot</td>\n      <td>228</td>\n      <td>244</td>\n      <td>236</td>\n      <td>238</td>\n      <td>197</td>\n    </tr>\n    <tr>\n      <td>8</td>\n      <td>Jehovah's Witness</td>\n      <td>20</td>\n      <td>27</td>\n      <td>24</td>\n      <td>24</td>\n      <td>21</td>\n    </tr>\n    <tr>\n      <td>9</td>\n      <td>Jewish</td>\n      <td>19</td>\n      <td>19</td>\n      <td>25</td>\n      <td>25</td>\n      <td>30</td>\n    </tr>\n    <tr>\n      <td>10</td>\n      <td>Mainline Prot</td>\n      <td>289</td>\n      <td>495</td>\n      <td>619</td>\n      <td>655</td>\n      <td>651</td>\n    </tr>\n    <tr>\n      <td>11</td>\n      <td>Mormon</td>\n      <td>29</td>\n      <td>40</td>\n      <td>48</td>\n      <td>51</td>\n      <td>56</td>\n    </tr>\n    <tr>\n      <td>12</td>\n      <td>Muslim</td>\n      <td>6</td>\n      <td>7</td>\n      <td>9</td>\n      <td>10</td>\n      <td>9</td>\n    </tr>\n    <tr>\n      <td>13</td>\n      <td>Orthodox</td>\n      <td>13</td>\n      <td>17</td>\n      <td>23</td>\n      <td>32</td>\n      <td>32</td>\n    </tr>\n    <tr>\n      <td>14</td>\n      <td>Other Christian</td>\n      <td>9</td>\n      <td>7</td>\n      <td>11</td>\n      <td>13</td>\n      <td>13</td>\n    </tr>\n    <tr>\n      <td>15</td>\n      <td>Other Faiths</td>\n      <td>20</td>\n      <td>33</td>\n      <td>40</td>\n      <td>46</td>\n      <td>49</td>\n    </tr>\n    <tr>\n      <td>16</td>\n      <td>Other World Religions</td>\n      <td>5</td>\n      <td>2</td>\n      <td>3</td>\n      <td>4</td>\n      <td>2</td>\n    </tr>\n    <tr>\n      <td>17</td>\n      <td>Unaffiliated</td>\n      <td>217</td>\n      <td>299</td>\n      <td>374</td>\n      <td>365</td>\n      <td>341</td>\n    </tr>\n  </tbody>\n</table>\n</div>",
      "text/plain": "                   religion  <$10k  $10-20k  $20-30k  $30-40k  $40-50k\n0                  Agnostic     27       34       60       81       76\n1                   Atheist     12       27       37       52       35\n2                  Buddhist     27       21       30       34       33\n3                  Catholic    418      617      732      670      638\n4        Don’t know/refused     15       14       15       11       10\n5          Evangelical Prot    575      869     1064      982      881\n6                     Hindu      1        9        7        9       11\n7   Historically Black Prot    228      244      236      238      197\n8         Jehovah's Witness     20       27       24       24       21\n9                    Jewish     19       19       25       25       30\n10            Mainline Prot    289      495      619      655      651\n11                   Mormon     29       40       48       51       56\n12                   Muslim      6        7        9       10        9\n13                 Orthodox     13       17       23       32       32\n14          Other Christian      9        7       11       13       13\n15             Other Faiths     20       33       40       46       49\n16    Other World Religions      5        2        3        4        2\n17             Unaffiliated    217      299      374      365      341"
     },
     "execution_count": 3,
     "metadata": {},
     "output_type": "execute_result"
    }
   ],
   "source": [
    "pew.iloc[:, 0:6]"
   ]
  },
  {
   "cell_type": "code",
   "execution_count": 4,
   "metadata": {},
   "outputs": [
    {
     "data": {
      "text/html": "<div>\n<style scoped>\n    .dataframe tbody tr th:only-of-type {\n        vertical-align: middle;\n    }\n\n    .dataframe tbody tr th {\n        vertical-align: top;\n    }\n\n    .dataframe thead th {\n        text-align: right;\n    }\n</style>\n<table border=\"1\" class=\"dataframe\">\n  <thead>\n    <tr style=\"text-align: right;\">\n      <th></th>\n      <th>religion</th>\n      <th>variable</th>\n      <th>value</th>\n    </tr>\n  </thead>\n  <tbody>\n    <tr>\n      <td>0</td>\n      <td>Agnostic</td>\n      <td>&lt;$10k</td>\n      <td>27</td>\n    </tr>\n    <tr>\n      <td>1</td>\n      <td>Atheist</td>\n      <td>&lt;$10k</td>\n      <td>12</td>\n    </tr>\n    <tr>\n      <td>2</td>\n      <td>Buddhist</td>\n      <td>&lt;$10k</td>\n      <td>27</td>\n    </tr>\n    <tr>\n      <td>3</td>\n      <td>Catholic</td>\n      <td>&lt;$10k</td>\n      <td>418</td>\n    </tr>\n    <tr>\n      <td>4</td>\n      <td>Don’t know/refused</td>\n      <td>&lt;$10k</td>\n      <td>15</td>\n    </tr>\n  </tbody>\n</table>\n</div>",
      "text/plain": "             religion variable  value\n0            Agnostic    <$10k     27\n1             Atheist    <$10k     12\n2            Buddhist    <$10k     27\n3            Catholic    <$10k    418\n4  Don’t know/refused    <$10k     15"
     },
     "execution_count": 4,
     "metadata": {},
     "output_type": "execute_result"
    }
   ],
   "source": [
    "pew_long = pd.melt(pew, id_vars='religion')\n",
    "pew_long.head()"
   ]
  },
  {
   "cell_type": "code",
   "execution_count": 5,
   "metadata": {},
   "outputs": [
    {
     "data": {
      "text/html": "<div>\n<style scoped>\n    .dataframe tbody tr th:only-of-type {\n        vertical-align: middle;\n    }\n\n    .dataframe tbody tr th {\n        vertical-align: top;\n    }\n\n    .dataframe thead th {\n        text-align: right;\n    }\n</style>\n<table border=\"1\" class=\"dataframe\">\n  <thead>\n    <tr style=\"text-align: right;\">\n      <th></th>\n      <th>religion</th>\n      <th>income</th>\n      <th>count</th>\n    </tr>\n  </thead>\n  <tbody>\n    <tr>\n      <td>0</td>\n      <td>Agnostic</td>\n      <td>&lt;$10k</td>\n      <td>27</td>\n    </tr>\n    <tr>\n      <td>1</td>\n      <td>Atheist</td>\n      <td>&lt;$10k</td>\n      <td>12</td>\n    </tr>\n    <tr>\n      <td>2</td>\n      <td>Buddhist</td>\n      <td>&lt;$10k</td>\n      <td>27</td>\n    </tr>\n    <tr>\n      <td>3</td>\n      <td>Catholic</td>\n      <td>&lt;$10k</td>\n      <td>418</td>\n    </tr>\n    <tr>\n      <td>4</td>\n      <td>Don’t know/refused</td>\n      <td>&lt;$10k</td>\n      <td>15</td>\n    </tr>\n  </tbody>\n</table>\n</div>",
      "text/plain": "             religion income  count\n0            Agnostic  <$10k     27\n1             Atheist  <$10k     12\n2            Buddhist  <$10k     27\n3            Catholic  <$10k    418\n4  Don’t know/refused  <$10k     15"
     },
     "execution_count": 5,
     "metadata": {},
     "output_type": "execute_result"
    }
   ],
   "source": [
    "pew_long = pd.melt(pew, id_vars='religion', var_name='income', value_name='count')\n",
    "pew_long.head()"
   ]
  },
  {
   "cell_type": "code",
   "execution_count": 7,
   "metadata": {},
   "outputs": [
    {
     "data": {
      "text/html": "<div>\n<style scoped>\n    .dataframe tbody tr th:only-of-type {\n        vertical-align: middle;\n    }\n\n    .dataframe tbody tr th {\n        vertical-align: top;\n    }\n\n    .dataframe thead th {\n        text-align: right;\n    }\n</style>\n<table border=\"1\" class=\"dataframe\">\n  <thead>\n    <tr style=\"text-align: right;\">\n      <th></th>\n      <th>year</th>\n      <th>artist</th>\n      <th>track</th>\n      <th>time</th>\n      <th>date.entered</th>\n      <th>wk1</th>\n      <th>wk2</th>\n      <th>wk3</th>\n      <th>wk4</th>\n      <th>wk5</th>\n      <th>wk6</th>\n      <th>wk7</th>\n      <th>wk8</th>\n      <th>wk9</th>\n      <th>wk10</th>\n      <th>wk11</th>\n    </tr>\n  </thead>\n  <tbody>\n    <tr>\n      <td>0</td>\n      <td>2000</td>\n      <td>2 Pac</td>\n      <td>Baby Don't Cry (Keep...</td>\n      <td>4:22</td>\n      <td>2000-02-26</td>\n      <td>87</td>\n      <td>82.0</td>\n      <td>72.0</td>\n      <td>77.0</td>\n      <td>87.0</td>\n      <td>94.0</td>\n      <td>99.0</td>\n      <td>NaN</td>\n      <td>NaN</td>\n      <td>NaN</td>\n      <td>NaN</td>\n    </tr>\n    <tr>\n      <td>1</td>\n      <td>2000</td>\n      <td>2Ge+her</td>\n      <td>The Hardest Part Of ...</td>\n      <td>3:15</td>\n      <td>2000-09-02</td>\n      <td>91</td>\n      <td>87.0</td>\n      <td>92.0</td>\n      <td>NaN</td>\n      <td>NaN</td>\n      <td>NaN</td>\n      <td>NaN</td>\n      <td>NaN</td>\n      <td>NaN</td>\n      <td>NaN</td>\n      <td>NaN</td>\n    </tr>\n    <tr>\n      <td>2</td>\n      <td>2000</td>\n      <td>3 Doors Down</td>\n      <td>Kryptonite</td>\n      <td>3:53</td>\n      <td>2000-04-08</td>\n      <td>81</td>\n      <td>70.0</td>\n      <td>68.0</td>\n      <td>67.0</td>\n      <td>66.0</td>\n      <td>57.0</td>\n      <td>54.0</td>\n      <td>53.0</td>\n      <td>51.0</td>\n      <td>51.0</td>\n      <td>51.0</td>\n    </tr>\n    <tr>\n      <td>3</td>\n      <td>2000</td>\n      <td>3 Doors Down</td>\n      <td>Loser</td>\n      <td>4:24</td>\n      <td>2000-10-21</td>\n      <td>76</td>\n      <td>76.0</td>\n      <td>72.0</td>\n      <td>69.0</td>\n      <td>67.0</td>\n      <td>65.0</td>\n      <td>55.0</td>\n      <td>59.0</td>\n      <td>62.0</td>\n      <td>61.0</td>\n      <td>61.0</td>\n    </tr>\n    <tr>\n      <td>4</td>\n      <td>2000</td>\n      <td>504 Boyz</td>\n      <td>Wobble Wobble</td>\n      <td>3:35</td>\n      <td>2000-04-15</td>\n      <td>57</td>\n      <td>34.0</td>\n      <td>25.0</td>\n      <td>17.0</td>\n      <td>17.0</td>\n      <td>31.0</td>\n      <td>36.0</td>\n      <td>49.0</td>\n      <td>53.0</td>\n      <td>57.0</td>\n      <td>64.0</td>\n    </tr>\n  </tbody>\n</table>\n</div>",
      "text/plain": "   year        artist                    track  time date.entered  wk1   wk2  \\\n0  2000         2 Pac  Baby Don't Cry (Keep...  4:22   2000-02-26   87  82.0   \n1  2000       2Ge+her  The Hardest Part Of ...  3:15   2000-09-02   91  87.0   \n2  2000  3 Doors Down               Kryptonite  3:53   2000-04-08   81  70.0   \n3  2000  3 Doors Down                    Loser  4:24   2000-10-21   76  76.0   \n4  2000      504 Boyz            Wobble Wobble  3:35   2000-04-15   57  34.0   \n\n    wk3   wk4   wk5   wk6   wk7   wk8   wk9  wk10  wk11  \n0  72.0  77.0  87.0  94.0  99.0   NaN   NaN   NaN   NaN  \n1  92.0   NaN   NaN   NaN   NaN   NaN   NaN   NaN   NaN  \n2  68.0  67.0  66.0  57.0  54.0  53.0  51.0  51.0  51.0  \n3  72.0  69.0  67.0  65.0  55.0  59.0  62.0  61.0  61.0  \n4  25.0  17.0  17.0  31.0  36.0  49.0  53.0  57.0  64.0  "
     },
     "execution_count": 7,
     "metadata": {},
     "output_type": "execute_result"
    }
   ],
   "source": [
    "billboard = pd.read_csv('./data/billboard.csv')\n",
    "\n",
    "billboard.iloc[0:5, 0:16]"
   ]
  },
  {
   "cell_type": "code",
   "execution_count": 11,
   "metadata": {},
   "outputs": [
    {
     "data": {
      "text/plain": "(317, 81)"
     },
     "execution_count": 11,
     "metadata": {},
     "output_type": "execute_result"
    }
   ],
   "source": [
    "billboard.shape"
   ]
  },
  {
   "cell_type": "code",
   "execution_count": 9,
   "metadata": {},
   "outputs": [
    {
     "data": {
      "text/html": "<div>\n<style scoped>\n    .dataframe tbody tr th:only-of-type {\n        vertical-align: middle;\n    }\n\n    .dataframe tbody tr th {\n        vertical-align: top;\n    }\n\n    .dataframe thead th {\n        text-align: right;\n    }\n</style>\n<table border=\"1\" class=\"dataframe\">\n  <thead>\n    <tr style=\"text-align: right;\">\n      <th></th>\n      <th>year</th>\n      <th>artist</th>\n      <th>track</th>\n      <th>time</th>\n      <th>date.entered</th>\n      <th>week</th>\n      <th>rating</th>\n    </tr>\n  </thead>\n  <tbody>\n    <tr>\n      <td>0</td>\n      <td>2000</td>\n      <td>2 Pac</td>\n      <td>Baby Don't Cry (Keep...</td>\n      <td>4:22</td>\n      <td>2000-02-26</td>\n      <td>wk1</td>\n      <td>87.0</td>\n    </tr>\n    <tr>\n      <td>1</td>\n      <td>2000</td>\n      <td>2Ge+her</td>\n      <td>The Hardest Part Of ...</td>\n      <td>3:15</td>\n      <td>2000-09-02</td>\n      <td>wk1</td>\n      <td>91.0</td>\n    </tr>\n    <tr>\n      <td>2</td>\n      <td>2000</td>\n      <td>3 Doors Down</td>\n      <td>Kryptonite</td>\n      <td>3:53</td>\n      <td>2000-04-08</td>\n      <td>wk1</td>\n      <td>81.0</td>\n    </tr>\n    <tr>\n      <td>3</td>\n      <td>2000</td>\n      <td>3 Doors Down</td>\n      <td>Loser</td>\n      <td>4:24</td>\n      <td>2000-10-21</td>\n      <td>wk1</td>\n      <td>76.0</td>\n    </tr>\n    <tr>\n      <td>4</td>\n      <td>2000</td>\n      <td>504 Boyz</td>\n      <td>Wobble Wobble</td>\n      <td>3:35</td>\n      <td>2000-04-15</td>\n      <td>wk1</td>\n      <td>57.0</td>\n    </tr>\n    <tr>\n      <td>...</td>\n      <td>...</td>\n      <td>...</td>\n      <td>...</td>\n      <td>...</td>\n      <td>...</td>\n      <td>...</td>\n      <td>...</td>\n    </tr>\n    <tr>\n      <td>24087</td>\n      <td>2000</td>\n      <td>Yankee Grey</td>\n      <td>Another Nine Minutes</td>\n      <td>3:10</td>\n      <td>2000-04-29</td>\n      <td>wk76</td>\n      <td>NaN</td>\n    </tr>\n    <tr>\n      <td>24088</td>\n      <td>2000</td>\n      <td>Yearwood, Trisha</td>\n      <td>Real Live Woman</td>\n      <td>3:55</td>\n      <td>2000-04-01</td>\n      <td>wk76</td>\n      <td>NaN</td>\n    </tr>\n    <tr>\n      <td>24089</td>\n      <td>2000</td>\n      <td>Ying Yang Twins</td>\n      <td>Whistle While You Tw...</td>\n      <td>4:19</td>\n      <td>2000-03-18</td>\n      <td>wk76</td>\n      <td>NaN</td>\n    </tr>\n    <tr>\n      <td>24090</td>\n      <td>2000</td>\n      <td>Zombie Nation</td>\n      <td>Kernkraft 400</td>\n      <td>3:30</td>\n      <td>2000-09-02</td>\n      <td>wk76</td>\n      <td>NaN</td>\n    </tr>\n    <tr>\n      <td>24091</td>\n      <td>2000</td>\n      <td>matchbox twenty</td>\n      <td>Bent</td>\n      <td>4:12</td>\n      <td>2000-04-29</td>\n      <td>wk76</td>\n      <td>NaN</td>\n    </tr>\n  </tbody>\n</table>\n<p>24092 rows × 7 columns</p>\n</div>",
      "text/plain": "       year            artist                    track  time date.entered  \\\n0      2000             2 Pac  Baby Don't Cry (Keep...  4:22   2000-02-26   \n1      2000           2Ge+her  The Hardest Part Of ...  3:15   2000-09-02   \n2      2000      3 Doors Down               Kryptonite  3:53   2000-04-08   \n3      2000      3 Doors Down                    Loser  4:24   2000-10-21   \n4      2000          504 Boyz            Wobble Wobble  3:35   2000-04-15   \n...     ...               ...                      ...   ...          ...   \n24087  2000       Yankee Grey     Another Nine Minutes  3:10   2000-04-29   \n24088  2000  Yearwood, Trisha          Real Live Woman  3:55   2000-04-01   \n24089  2000   Ying Yang Twins  Whistle While You Tw...  4:19   2000-03-18   \n24090  2000     Zombie Nation            Kernkraft 400  3:30   2000-09-02   \n24091  2000   matchbox twenty                     Bent  4:12   2000-04-29   \n\n       week  rating  \n0       wk1    87.0  \n1       wk1    91.0  \n2       wk1    81.0  \n3       wk1    76.0  \n4       wk1    57.0  \n...     ...     ...  \n24087  wk76     NaN  \n24088  wk76     NaN  \n24089  wk76     NaN  \n24090  wk76     NaN  \n24091  wk76     NaN  \n\n[24092 rows x 7 columns]"
     },
     "execution_count": 9,
     "metadata": {},
     "output_type": "execute_result"
    }
   ],
   "source": [
    "billboard_long = pd.melt(billboard, id_vars=['year', 'artist', 'track', 'time', 'date.entered'], var_name='week', value_name='rating')\n",
    "\n",
    "billboard_long"
   ]
  },
  {
   "cell_type": "code",
   "execution_count": 12,
   "metadata": {},
   "outputs": [
    {
     "name": "stdout",
     "output_type": "stream",
     "text": "Index(['Date', 'Day', 'Cases_Guinea', 'Cases_Liberia', 'Cases_SierraLeone',\n       'Cases_Nigeria', 'Cases_Senegal', 'Cases_UnitedStates', 'Cases_Spain',\n       'Cases_Mali', 'Deaths_Guinea', 'Deaths_Liberia', 'Deaths_SierraLeone',\n       'Deaths_Nigeria', 'Deaths_Senegal', 'Deaths_UnitedStates',\n       'Deaths_Spain', 'Deaths_Mali'],\n      dtype='object')\n"
    }
   ],
   "source": [
    "ebola = pd.read_csv('./data/country_timeseries.csv')\n",
    "print(ebola.columns)"
   ]
  },
  {
   "cell_type": "code",
   "execution_count": 13,
   "metadata": {},
   "outputs": [
    {
     "name": "stdout",
     "output_type": "stream",
     "text": "Date  Day  Cases_Guinea  Cases_Liberia  Deaths_Guinea  Deaths_Liberia\n0    1/5/2015  289        2776.0            NaN         1786.0             NaN\n1    1/4/2015  288        2775.0            NaN         1781.0             NaN\n2    1/3/2015  287        2769.0         8166.0         1767.0          3496.0\n3    1/2/2015  286           NaN         8157.0            NaN          3496.0\n4  12/31/2014  284        2730.0         8115.0         1739.0          3471.0\n"
    }
   ],
   "source": [
    "print(ebola.iloc[:5, [0, 1, 2, 3, 10, 11]])"
   ]
  },
  {
   "cell_type": "code",
   "execution_count": 14,
   "metadata": {},
   "outputs": [
    {
     "name": "stdout",
     "output_type": "stream",
     "text": "Date  Day      variable   value\n0    1/5/2015  289  Cases_Guinea  2776.0\n1    1/4/2015  288  Cases_Guinea  2775.0\n2    1/3/2015  287  Cases_Guinea  2769.0\n3    1/2/2015  286  Cases_Guinea     NaN\n4  12/31/2014  284  Cases_Guinea  2730.0\n"
    }
   ],
   "source": [
    "ebola_long = pd.melt(ebola, id_vars=['Date', 'Day'])\n",
    "print(ebola_long.head())"
   ]
  },
  {
   "cell_type": "markdown",
   "execution_count": null,
   "metadata": {},
   "outputs": [],
   "source": [
    "- variable_split = ebola_long.variable.str.split('_')\n",
    "  - 주소를 구나 동으로 나누어서 사용할 떄 아주 유용!"
   ]
  },
  {
   "cell_type": "code",
   "execution_count": 15,
   "metadata": {},
   "outputs": [
    {
     "name": "stdout",
     "output_type": "stream",
     "text": "0    [Cases, Guinea]\n1    [Cases, Guinea]\n2    [Cases, Guinea]\n3    [Cases, Guinea]\n4    [Cases, Guinea]\nName: variable, dtype: object\n"
    }
   ],
   "source": [
    "variable_split = ebola_long.variable.str.split('_')\n",
    "\n",
    "print(variable_split[:5])"
   ]
  },
  {
   "cell_type": "code",
   "execution_count": 16,
   "metadata": {},
   "outputs": [
    {
     "name": "stdout",
     "output_type": "stream",
     "text": "<class 'pandas.core.series.Series'>\n"
    }
   ],
   "source": [
    "print(type(variable_split))"
   ]
  },
  {
   "cell_type": "code",
   "execution_count": 17,
   "metadata": {},
   "outputs": [
    {
     "name": "stdout",
     "output_type": "stream",
     "text": "<class 'list'>\n"
    }
   ],
   "source": [
    "print(type(variable_split[0]))"
   ]
  },
  {
   "cell_type": "code",
   "execution_count": 18,
   "metadata": {},
   "outputs": [
    {
     "name": "stdout",
     "output_type": "stream",
     "text": "0    Cases\n1    Cases\n2    Cases\n3    Cases\n4    Cases\nName: variable, dtype: object\n"
    }
   ],
   "source": [
    "status_values = variable_split.str.get(0) \n",
    "country_values = variable_split.str.get(1)\n",
    "\n",
    "print(status_values[:5])"
   ]
  },
  {
   "cell_type": "code",
   "execution_count": 20,
   "metadata": {},
   "outputs": [
    {
     "data": {
      "text/html": "<div>\n<style scoped>\n    .dataframe tbody tr th:only-of-type {\n        vertical-align: middle;\n    }\n\n    .dataframe tbody tr th {\n        vertical-align: top;\n    }\n\n    .dataframe thead th {\n        text-align: right;\n    }\n</style>\n<table border=\"1\" class=\"dataframe\">\n  <thead>\n    <tr style=\"text-align: right;\">\n      <th></th>\n      <th>Date</th>\n      <th>Day</th>\n      <th>variable</th>\n      <th>value</th>\n      <th>status</th>\n      <th>country</th>\n    </tr>\n  </thead>\n  <tbody>\n    <tr>\n      <td>0</td>\n      <td>1/5/2015</td>\n      <td>289</td>\n      <td>Cases_Guinea</td>\n      <td>2776.0</td>\n      <td>Cases</td>\n      <td>Guinea</td>\n    </tr>\n    <tr>\n      <td>1</td>\n      <td>1/4/2015</td>\n      <td>288</td>\n      <td>Cases_Guinea</td>\n      <td>2775.0</td>\n      <td>Cases</td>\n      <td>Guinea</td>\n    </tr>\n    <tr>\n      <td>2</td>\n      <td>1/3/2015</td>\n      <td>287</td>\n      <td>Cases_Guinea</td>\n      <td>2769.0</td>\n      <td>Cases</td>\n      <td>Guinea</td>\n    </tr>\n    <tr>\n      <td>3</td>\n      <td>1/2/2015</td>\n      <td>286</td>\n      <td>Cases_Guinea</td>\n      <td>NaN</td>\n      <td>Cases</td>\n      <td>Guinea</td>\n    </tr>\n    <tr>\n      <td>4</td>\n      <td>12/31/2014</td>\n      <td>284</td>\n      <td>Cases_Guinea</td>\n      <td>2730.0</td>\n      <td>Cases</td>\n      <td>Guinea</td>\n    </tr>\n  </tbody>\n</table>\n</div>",
      "text/plain": "         Date  Day      variable   value status country\n0    1/5/2015  289  Cases_Guinea  2776.0  Cases  Guinea\n1    1/4/2015  288  Cases_Guinea  2775.0  Cases  Guinea\n2    1/3/2015  287  Cases_Guinea  2769.0  Cases  Guinea\n3    1/2/2015  286  Cases_Guinea     NaN  Cases  Guinea\n4  12/31/2014  284  Cases_Guinea  2730.0  Cases  Guinea"
     },
     "execution_count": 20,
     "metadata": {},
     "output_type": "execute_result"
    }
   ],
   "source": [
    "ebola_long['status'] = status_values \n",
    "ebola_long['country'] = country_values\n",
    "ebola_long.head()"
   ]
  },
  {
   "cell_type": "code",
   "execution_count": 22,
   "metadata": {},
   "outputs": [
    {
     "data": {
      "text/html": "<div>\n<style scoped>\n    .dataframe tbody tr th:only-of-type {\n        vertical-align: middle;\n    }\n\n    .dataframe tbody tr th {\n        vertical-align: top;\n    }\n\n    .dataframe thead th {\n        text-align: right;\n    }\n</style>\n<table border=\"1\" class=\"dataframe\">\n  <thead>\n    <tr style=\"text-align: right;\">\n      <th></th>\n      <th>Date</th>\n      <th>Day</th>\n      <th>variable</th>\n      <th>value</th>\n      <th>status</th>\n      <th>country</th>\n      <th>status</th>\n      <th>country</th>\n    </tr>\n  </thead>\n  <tbody>\n    <tr>\n      <td>0</td>\n      <td>1/5/2015</td>\n      <td>289</td>\n      <td>Cases_Guinea</td>\n      <td>2776.0</td>\n      <td>Cases</td>\n      <td>Guinea</td>\n      <td>Cases</td>\n      <td>Guinea</td>\n    </tr>\n    <tr>\n      <td>1</td>\n      <td>1/4/2015</td>\n      <td>288</td>\n      <td>Cases_Guinea</td>\n      <td>2775.0</td>\n      <td>Cases</td>\n      <td>Guinea</td>\n      <td>Cases</td>\n      <td>Guinea</td>\n    </tr>\n    <tr>\n      <td>2</td>\n      <td>1/3/2015</td>\n      <td>287</td>\n      <td>Cases_Guinea</td>\n      <td>2769.0</td>\n      <td>Cases</td>\n      <td>Guinea</td>\n      <td>Cases</td>\n      <td>Guinea</td>\n    </tr>\n    <tr>\n      <td>3</td>\n      <td>1/2/2015</td>\n      <td>286</td>\n      <td>Cases_Guinea</td>\n      <td>NaN</td>\n      <td>Cases</td>\n      <td>Guinea</td>\n      <td>Cases</td>\n      <td>Guinea</td>\n    </tr>\n    <tr>\n      <td>4</td>\n      <td>12/31/2014</td>\n      <td>284</td>\n      <td>Cases_Guinea</td>\n      <td>2730.0</td>\n      <td>Cases</td>\n      <td>Guinea</td>\n      <td>Cases</td>\n      <td>Guinea</td>\n    </tr>\n  </tbody>\n</table>\n</div>",
      "text/plain": "         Date  Day      variable   value status country status country\n0    1/5/2015  289  Cases_Guinea  2776.0  Cases  Guinea  Cases  Guinea\n1    1/4/2015  288  Cases_Guinea  2775.0  Cases  Guinea  Cases  Guinea\n2    1/3/2015  287  Cases_Guinea  2769.0  Cases  Guinea  Cases  Guinea\n3    1/2/2015  286  Cases_Guinea     NaN  Cases  Guinea  Cases  Guinea\n4  12/31/2014  284  Cases_Guinea  2730.0  Cases  Guinea  Cases  Guinea"
     },
     "execution_count": 22,
     "metadata": {},
     "output_type": "execute_result"
    }
   ],
   "source": [
    "variable_split = ebola_long.variable.str.split('_', expand=True) \n",
    "variable_split.columns = ['status', 'country'] \n",
    "ebola_parsed = pd.concat([ebola_long, variable_split], axis=1)\n",
    "\n",
    "ebola_parsed.head()"
   ]
  },
  {
   "cell_type": "code",
   "execution_count": 23,
   "metadata": {},
   "outputs": [
    {
     "name": "stdout",
     "output_type": "stream",
     "text": "id  year  month element  d1    d2    d3  d4    d5  d6  d7\n0  MX17004  2010      1    tmax NaN   NaN   NaN NaN   NaN NaN NaN\n1  MX17004  2010      1    tmin NaN   NaN   NaN NaN   NaN NaN NaN\n2  MX17004  2010      2    tmax NaN  27.3  24.1 NaN   NaN NaN NaN\n3  MX17004  2010      2    tmin NaN  14.4  14.4 NaN   NaN NaN NaN\n4  MX17004  2010      3    tmax NaN   NaN   NaN NaN  32.1 NaN NaN\n"
    }
   ],
   "source": [
    "weather = pd.read_csv('./data/weather.csv') \n",
    "print(weather.iloc[:5, :11])"
   ]
  },
  {
   "cell_type": "code",
   "execution_count": 25,
   "metadata": {},
   "outputs": [
    {
     "data": {
      "text/plain": "(22, 35)"
     },
     "execution_count": 25,
     "metadata": {},
     "output_type": "execute_result"
    }
   ],
   "source": [
    "weather.shape"
   ]
  },
  {
   "cell_type": "code",
   "execution_count": 27,
   "metadata": {},
   "outputs": [
    {
     "data": {
      "text/html": "<div>\n<style scoped>\n    .dataframe tbody tr th:only-of-type {\n        vertical-align: middle;\n    }\n\n    .dataframe tbody tr th {\n        vertical-align: top;\n    }\n\n    .dataframe thead th {\n        text-align: right;\n    }\n</style>\n<table border=\"1\" class=\"dataframe\">\n  <thead>\n    <tr style=\"text-align: right;\">\n      <th></th>\n      <th>id</th>\n      <th>year</th>\n      <th>month</th>\n      <th>element</th>\n      <th>day</th>\n      <th>temp</th>\n    </tr>\n  </thead>\n  <tbody>\n    <tr>\n      <td>0</td>\n      <td>MX17004</td>\n      <td>2010</td>\n      <td>1</td>\n      <td>tmax</td>\n      <td>d1</td>\n      <td>NaN</td>\n    </tr>\n    <tr>\n      <td>1</td>\n      <td>MX17004</td>\n      <td>2010</td>\n      <td>1</td>\n      <td>tmin</td>\n      <td>d1</td>\n      <td>NaN</td>\n    </tr>\n    <tr>\n      <td>2</td>\n      <td>MX17004</td>\n      <td>2010</td>\n      <td>2</td>\n      <td>tmax</td>\n      <td>d1</td>\n      <td>NaN</td>\n    </tr>\n    <tr>\n      <td>3</td>\n      <td>MX17004</td>\n      <td>2010</td>\n      <td>2</td>\n      <td>tmin</td>\n      <td>d1</td>\n      <td>NaN</td>\n    </tr>\n    <tr>\n      <td>4</td>\n      <td>MX17004</td>\n      <td>2010</td>\n      <td>3</td>\n      <td>tmax</td>\n      <td>d1</td>\n      <td>NaN</td>\n    </tr>\n  </tbody>\n</table>\n</div>",
      "text/plain": "        id  year  month element day  temp\n0  MX17004  2010      1    tmax  d1   NaN\n1  MX17004  2010      1    tmin  d1   NaN\n2  MX17004  2010      2    tmax  d1   NaN\n3  MX17004  2010      2    tmin  d1   NaN\n4  MX17004  2010      3    tmax  d1   NaN"
     },
     "execution_count": 27,
     "metadata": {},
     "output_type": "execute_result"
    }
   ],
   "source": [
    "weather_melt = pd.melt(weather, id_vars=['id', 'year', 'month', 'element'], var_name='day', value_name='temp') \n",
    "weather_melt.head()"
   ]
  },
  {
   "cell_type": "code",
   "execution_count": 28,
   "metadata": {},
   "outputs": [
    {
     "name": "stdout",
     "output_type": "stream",
     "text": "element                 tmax  tmin\nid      year month day            \nMX17004 2010 1     d30  27.8  14.5\n             2     d11  29.7  13.4\n                   d2   27.3  14.4\n                   d23  29.9  10.7\n                   d3   24.1  14.4\n             3     d10  34.5  16.8\n                   d16  31.1  17.6\n                   d5   32.1  14.2\n             4     d27  36.3  16.7\n             5     d27  33.2  18.2\n             6     d17  28.0  17.5\n                   d29  30.1  18.0\n             7     d3   28.6  17.5\n                   d14  29.9  16.5\n             8     d23  26.4  15.0\n                   d5   29.6  15.8\n                   d29  28.0  15.3\n                   d13  29.8  16.5\n                   d25  29.7  15.6\n                   d31  25.4  15.4\n                   d8   29.0  17.3\n             10    d5   27.0  14.0\n                   d14  29.5  13.0\n                   d15  28.7  10.5\n                   d28  31.2  15.0\n                   d7   28.1  12.9\n             11    d2   31.3  16.3\n                   d5   26.3   7.9\n                   d27  27.7  14.2\n                   d26  28.1  12.1\n                   d4   27.2  12.0\n             12    d1   29.9  13.8\n                   d6   27.8  10.5\n"
    }
   ],
   "source": [
    "weather_tidy = weather_melt.pivot_table(\n",
    "    index=['id', 'year', 'month', 'day'], \n",
    "    columns='element', \n",
    "    values='temp'\n",
    ")\n",
    "\n",
    "print(weather_tidy)"
   ]
  },
  {
   "cell_type": "code",
   "execution_count": 29,
   "metadata": {},
   "outputs": [
    {
     "name": "stdout",
     "output_type": "stream",
     "text": "<class 'pandas.core.frame.DataFrame'>\nRangeIndex: 22 entries, 0 to 21\nData columns (total 35 columns):\nid         22 non-null object\nyear       22 non-null int64\nmonth      22 non-null int64\nelement    22 non-null object\nd1         2 non-null float64\nd2         4 non-null float64\nd3         4 non-null float64\nd4         2 non-null float64\nd5         8 non-null float64\nd6         2 non-null float64\nd7         2 non-null float64\nd8         2 non-null float64\nd9         0 non-null float64\nd10        2 non-null float64\nd11        2 non-null float64\nd12        0 non-null float64\nd13        2 non-null float64\nd14        4 non-null float64\nd15        2 non-null float64\nd16        2 non-null float64\nd17        2 non-null float64\nd18        0 non-null float64\nd19        0 non-null float64\nd20        0 non-null float64\nd21        0 non-null float64\nd22        0 non-null float64\nd23        4 non-null float64\nd24        0 non-null float64\nd25        2 non-null float64\nd26        2 non-null float64\nd27        6 non-null float64\nd28        2 non-null float64\nd29        4 non-null float64\nd30        2 non-null float64\nd31        2 non-null float64\ndtypes: float64(31), int64(2), object(2)\nmemory usage: 6.1+ KB\n"
    }
   ],
   "source": [
    "weather.info()"
   ]
  },
  {
   "cell_type": "code",
   "execution_count": 31,
   "metadata": {},
   "outputs": [
    {
     "data": {
      "text/html": "<div>\n<style scoped>\n    .dataframe tbody tr th:only-of-type {\n        vertical-align: middle;\n    }\n\n    .dataframe tbody tr th {\n        vertical-align: top;\n    }\n\n    .dataframe thead th {\n        text-align: right;\n    }\n</style>\n<table border=\"1\" class=\"dataframe\">\n  <thead>\n    <tr style=\"text-align: right;\">\n      <th></th>\n      <th>month</th>\n      <th>1</th>\n      <th>2</th>\n      <th>3</th>\n      <th>4</th>\n      <th>5</th>\n      <th>6</th>\n      <th>7</th>\n      <th>8</th>\n      <th>10</th>\n      <th>11</th>\n      <th>12</th>\n    </tr>\n    <tr>\n      <th>id</th>\n      <th>year</th>\n      <th></th>\n      <th></th>\n      <th></th>\n      <th></th>\n      <th></th>\n      <th></th>\n      <th></th>\n      <th></th>\n      <th></th>\n      <th></th>\n      <th></th>\n    </tr>\n  </thead>\n  <tbody>\n    <tr>\n      <td>MX17004</td>\n      <td>2010</td>\n      <td>21.15</td>\n      <td>20.4875</td>\n      <td>24.383333</td>\n      <td>26.5</td>\n      <td>25.7</td>\n      <td>23.4</td>\n      <td>23.125</td>\n      <td>22.057143</td>\n      <td>20.99</td>\n      <td>20.31</td>\n      <td>20.5</td>\n    </tr>\n  </tbody>\n</table>\n</div>",
      "text/plain": "month            1        2          3     4     5     6       7          8   \\\nid      year                                                                   \nMX17004 2010  21.15  20.4875  24.383333  26.5  25.7  23.4  23.125  22.057143   \n\nmonth            10     11    12  \nid      year                      \nMX17004 2010  20.99  20.31  20.5  "
     },
     "execution_count": 31,
     "metadata": {},
     "output_type": "execute_result"
    }
   ],
   "source": [
    "weather_tidy = weather_melt.pivot_table(\n",
    "    index=['id', 'year'], \n",
    "    columns='month', \n",
    "    values='temp'\n",
    ")\n",
    "\n",
    "weather_tidy"
   ]
  },
  {
   "cell_type": "code",
   "execution_count": 35,
   "metadata": {},
   "outputs": [
    {
     "data": {
      "text/plain": "Int64Index([1, 2, 3, 4, 5, 6, 7, 8, 10, 11, 12], dtype='int64', name='month')"
     },
     "execution_count": 35,
     "metadata": {},
     "output_type": "execute_result"
    }
   ],
   "source": [
    "weather_tidy.columns"
   ]
  },
  {
   "cell_type": "code",
   "execution_count": 37,
   "metadata": {},
   "outputs": [
    {
     "data": {
      "text/html": "<div>\n<style scoped>\n    .dataframe tbody tr th:only-of-type {\n        vertical-align: middle;\n    }\n\n    .dataframe tbody tr th {\n        vertical-align: top;\n    }\n\n    .dataframe thead th {\n        text-align: right;\n    }\n</style>\n<table border=\"1\" class=\"dataframe\">\n  <thead>\n    <tr style=\"text-align: right;\">\n      <th></th>\n      <th></th>\n      <th></th>\n      <th>element</th>\n      <th>tmax</th>\n      <th>tmin</th>\n    </tr>\n    <tr>\n      <th>id</th>\n      <th>year</th>\n      <th>month</th>\n      <th>day</th>\n      <th></th>\n      <th></th>\n    </tr>\n  </thead>\n  <tbody>\n    <tr>\n      <td rowspan=\"33\" valign=\"top\">MX17004</td>\n      <td rowspan=\"33\" valign=\"top\">2010</td>\n      <td>1</td>\n      <td>d30</td>\n      <td>27.8</td>\n      <td>14.5</td>\n    </tr>\n    <tr>\n      <td rowspan=\"4\" valign=\"top\">2</td>\n      <td>d11</td>\n      <td>29.7</td>\n      <td>13.4</td>\n    </tr>\n    <tr>\n      <td>d2</td>\n      <td>27.3</td>\n      <td>14.4</td>\n    </tr>\n    <tr>\n      <td>d23</td>\n      <td>29.9</td>\n      <td>10.7</td>\n    </tr>\n    <tr>\n      <td>d3</td>\n      <td>24.1</td>\n      <td>14.4</td>\n    </tr>\n    <tr>\n      <td rowspan=\"3\" valign=\"top\">3</td>\n      <td>d10</td>\n      <td>34.5</td>\n      <td>16.8</td>\n    </tr>\n    <tr>\n      <td>d16</td>\n      <td>31.1</td>\n      <td>17.6</td>\n    </tr>\n    <tr>\n      <td>d5</td>\n      <td>32.1</td>\n      <td>14.2</td>\n    </tr>\n    <tr>\n      <td>4</td>\n      <td>d27</td>\n      <td>36.3</td>\n      <td>16.7</td>\n    </tr>\n    <tr>\n      <td>5</td>\n      <td>d27</td>\n      <td>33.2</td>\n      <td>18.2</td>\n    </tr>\n    <tr>\n      <td rowspan=\"2\" valign=\"top\">6</td>\n      <td>d17</td>\n      <td>28.0</td>\n      <td>17.5</td>\n    </tr>\n    <tr>\n      <td>d29</td>\n      <td>30.1</td>\n      <td>18.0</td>\n    </tr>\n    <tr>\n      <td rowspan=\"2\" valign=\"top\">7</td>\n      <td>d3</td>\n      <td>28.6</td>\n      <td>17.5</td>\n    </tr>\n    <tr>\n      <td>d14</td>\n      <td>29.9</td>\n      <td>16.5</td>\n    </tr>\n    <tr>\n      <td rowspan=\"7\" valign=\"top\">8</td>\n      <td>d23</td>\n      <td>26.4</td>\n      <td>15.0</td>\n    </tr>\n    <tr>\n      <td>d5</td>\n      <td>29.6</td>\n      <td>15.8</td>\n    </tr>\n    <tr>\n      <td>d29</td>\n      <td>28.0</td>\n      <td>15.3</td>\n    </tr>\n    <tr>\n      <td>d13</td>\n      <td>29.8</td>\n      <td>16.5</td>\n    </tr>\n    <tr>\n      <td>d25</td>\n      <td>29.7</td>\n      <td>15.6</td>\n    </tr>\n    <tr>\n      <td>d31</td>\n      <td>25.4</td>\n      <td>15.4</td>\n    </tr>\n    <tr>\n      <td>d8</td>\n      <td>29.0</td>\n      <td>17.3</td>\n    </tr>\n    <tr>\n      <td rowspan=\"5\" valign=\"top\">10</td>\n      <td>d5</td>\n      <td>27.0</td>\n      <td>14.0</td>\n    </tr>\n    <tr>\n      <td>d14</td>\n      <td>29.5</td>\n      <td>13.0</td>\n    </tr>\n    <tr>\n      <td>d15</td>\n      <td>28.7</td>\n      <td>10.5</td>\n    </tr>\n    <tr>\n      <td>d28</td>\n      <td>31.2</td>\n      <td>15.0</td>\n    </tr>\n    <tr>\n      <td>d7</td>\n      <td>28.1</td>\n      <td>12.9</td>\n    </tr>\n    <tr>\n      <td rowspan=\"5\" valign=\"top\">11</td>\n      <td>d2</td>\n      <td>31.3</td>\n      <td>16.3</td>\n    </tr>\n    <tr>\n      <td>d5</td>\n      <td>26.3</td>\n      <td>7.9</td>\n    </tr>\n    <tr>\n      <td>d27</td>\n      <td>27.7</td>\n      <td>14.2</td>\n    </tr>\n    <tr>\n      <td>d26</td>\n      <td>28.1</td>\n      <td>12.1</td>\n    </tr>\n    <tr>\n      <td>d4</td>\n      <td>27.2</td>\n      <td>12.0</td>\n    </tr>\n    <tr>\n      <td rowspan=\"2\" valign=\"top\">12</td>\n      <td>d1</td>\n      <td>29.9</td>\n      <td>13.8</td>\n    </tr>\n    <tr>\n      <td>d6</td>\n      <td>27.8</td>\n      <td>10.5</td>\n    </tr>\n  </tbody>\n</table>\n</div>",
      "text/plain": "element                 tmax  tmin\nid      year month day            \nMX17004 2010 1     d30  27.8  14.5\n             2     d11  29.7  13.4\n                   d2   27.3  14.4\n                   d23  29.9  10.7\n                   d3   24.1  14.4\n             3     d10  34.5  16.8\n                   d16  31.1  17.6\n                   d5   32.1  14.2\n             4     d27  36.3  16.7\n             5     d27  33.2  18.2\n             6     d17  28.0  17.5\n                   d29  30.1  18.0\n             7     d3   28.6  17.5\n                   d14  29.9  16.5\n             8     d23  26.4  15.0\n                   d5   29.6  15.8\n                   d29  28.0  15.3\n                   d13  29.8  16.5\n                   d25  29.7  15.6\n                   d31  25.4  15.4\n                   d8   29.0  17.3\n             10    d5   27.0  14.0\n                   d14  29.5  13.0\n                   d15  28.7  10.5\n                   d28  31.2  15.0\n                   d7   28.1  12.9\n             11    d2   31.3  16.3\n                   d5   26.3   7.9\n                   d27  27.7  14.2\n                   d26  28.1  12.1\n                   d4   27.2  12.0\n             12    d1   29.9  13.8\n                   d6   27.8  10.5"
     },
     "execution_count": 37,
     "metadata": {},
     "output_type": "execute_result"
    }
   ],
   "source": [
    "weather_tidy = weather_melt.pivot_table(\n",
    "    index=['id', 'year', 'month', 'day'], \n",
    "    columns='element', \n",
    "    values='temp'\n",
    ")\n",
    "\n",
    "weather_tidy"
   ]
  },
  {
   "cell_type": "code",
   "execution_count": 48,
   "metadata": {},
   "outputs": [
    {
     "name": "stdout",
     "output_type": "stream",
     "text": "element       id  year  month  day  tmax  tmin\n0        MX17004  2010      1  d30  27.8  14.5\n1        MX17004  2010      2  d11  29.7  13.4\n2        MX17004  2010      2   d2  27.3  14.4\n3        MX17004  2010      2  d23  29.9  10.7\n4        MX17004  2010      2   d3  24.1  14.4\n"
    }
   ],
   "source": [
    "weather_tidy_flat = weather_tidy.reset_index() \n",
    "print(weather_tidy_flat.head())"
   ]
  },
  {
   "cell_type": "code",
   "execution_count": 50,
   "metadata": {},
   "outputs": [
    {
     "data": {
      "text/plain": "Index(['id', 'year', 'month', 'day', 'tmax', 'tmin'], dtype='object', name='element')"
     },
     "execution_count": 50,
     "metadata": {},
     "output_type": "execute_result"
    }
   ],
   "source": [
    "weather_tidy.columns\n",
    "weather_tidy_flat.columns"
   ]
  },
  {
   "cell_type": "code",
   "execution_count": 39,
   "metadata": {},
   "outputs": [
    {
     "name": "stdout",
     "output_type": "stream",
     "text": "(24092, 7)\n   year        artist                    track  time date.entered week  rating\n0  2000         2 Pac  Baby Don't Cry (Keep...  4:22   2000-02-26  wk1    87.0\n1  2000       2Ge+her  The Hardest Part Of ...  3:15   2000-09-02  wk1    91.0\n2  2000  3 Doors Down               Kryptonite  3:53   2000-04-08  wk1    81.0\n3  2000  3 Doors Down                    Loser  4:24   2000-10-21  wk1    76.0\n4  2000      504 Boyz            Wobble Wobble  3:35   2000-04-15  wk1    57.0\n"
    }
   ],
   "source": [
    "billboard = pd.read_csv('./data/billboard.csv')\n",
    "billboard_long = pd.melt(billboard, id_vars=['year', 'artist', 'track', 'time', 'date.entered'], var_name='week', value_name='rating')\n",
    "\n",
    "print(billboard_long.shape)\n",
    "\n",
    "print(billboard_long.head())"
   ]
  },
  {
   "cell_type": "code",
   "execution_count": 42,
   "metadata": {},
   "outputs": [
    {
     "name": "stdout",
     "output_type": "stream",
     "text": "(76, 7)\n"
    }
   ],
   "source": [
    "print(billboard_long[billboard_long.track == 'Loser'].shape)"
   ]
  },
  {
   "cell_type": "code",
   "execution_count": 43,
   "metadata": {},
   "outputs": [
    {
     "name": "stdout",
     "output_type": "stream",
     "text": "(24092, 4)\n"
    }
   ],
   "source": [
    "billboard_songs = billboard_long[['year', 'artist', 'track', 'time']] \n",
    "print(billboard_songs.shape)"
   ]
  },
  {
   "cell_type": "code",
   "execution_count": 44,
   "metadata": {},
   "outputs": [
    {
     "name": "stdout",
     "output_type": "stream",
     "text": "(317, 4)\n"
    }
   ],
   "source": [
    "billboard_songs = billboard_songs.drop_duplicates() \n",
    "print(billboard_songs.shape)"
   ]
  },
  {
   "cell_type": "code",
   "execution_count": 45,
   "metadata": {},
   "outputs": [
    {
     "name": "stdout",
     "output_type": "stream",
     "text": "year          artist                    track  time  id\n0  2000           2 Pac  Baby Don't Cry (Keep...  4:22   0\n1  2000         2Ge+her  The Hardest Part Of ...  3:15   1\n2  2000    3 Doors Down               Kryptonite  3:53   2\n3  2000    3 Doors Down                    Loser  4:24   3\n4  2000        504 Boyz            Wobble Wobble  3:35   4\n5  2000            98^0  Give Me Just One Nig...  3:24   5\n6  2000         A*Teens            Dancing Queen  3:44   6\n7  2000         Aaliyah            I Don't Wanna  4:15   7\n8  2000         Aaliyah                Try Again  4:03   8\n9  2000  Adams, Yolanda            Open My Heart  5:30   9\n"
    }
   ],
   "source": [
    "billboard_songs['id'] = range(len(billboard_songs)) \n",
    "print(billboard_songs.head(n=10))"
   ]
  },
  {
   "cell_type": "code",
   "execution_count": 46,
   "metadata": {},
   "outputs": [
    {
     "name": "stdout",
     "output_type": "stream",
     "text": "(24092, 8)\n"
    }
   ],
   "source": [
    "billboard_ratings = billboard_long.merge( billboard_songs, on=['year', 'artist', 'track', 'time']) \n",
    "print(billboard_ratings.shape)\n"
   ]
  },
  {
   "cell_type": "code",
   "execution_count": 47,
   "metadata": {},
   "outputs": [
    {
     "name": "stdout",
     "output_type": "stream",
     "text": "year artist                    track  time date.entered week  rating  id\n0  2000  2 Pac  Baby Don't Cry (Keep...  4:22   2000-02-26  wk1    87.0   0\n1  2000  2 Pac  Baby Don't Cry (Keep...  4:22   2000-02-26  wk2    82.0   0\n2  2000  2 Pac  Baby Don't Cry (Keep...  4:22   2000-02-26  wk3    72.0   0\n3  2000  2 Pac  Baby Don't Cry (Keep...  4:22   2000-02-26  wk4    77.0   0\n4  2000  2 Pac  Baby Don't Cry (Keep...  4:22   2000-02-26  wk5    87.0   0\n"
    }
   ],
   "source": [
    "print(billboard_ratings.head())"
   ]
  },
  {
   "cell_type": "markdown",
   "execution_count": null,
   "metadata": {},
   "outputs": [],
   "source": [
    "## 대용량 데이터 가져오기"
   ]
  },
  {
   "cell_type": "code",
   "execution_count": 51,
   "metadata": {},
   "outputs": [
    {
     "name": "stdout",
     "output_type": "stream",
     "text": "https://s3.amazonaws.com/nyc-tlc/trip+data/fhv_tripdata_2015-01.csv\n\n./data\\fhv_tripdata_2015-01.csv\nhttps://s3.amazonaws.com/nyc-tlc/trip+data/fhv_tripdata_2015-02.csv\n\n./data\\fhv_tripdata_2015-02.csv\nhttps://s3.amazonaws.com/nyc-tlc/trip+data/fhv_tripdata_2015-03.csv\n\n./data\\fhv_tripdata_2015-03.csv\nhttps://s3.amazonaws.com/nyc-tlc/trip+data/fhv_tripdata_2015-04.csv\n\n./data\\fhv_tripdata_2015-04.csv\nhttps://s3.amazonaws.com/nyc-tlc/trip+data/fhv_tripdata_2015-05.csv\n\n./data\\fhv_tripdata_2015-05.csv\n"
    }
   ],
   "source": [
    "import os \n",
    "import urllib.request\n",
    "\n",
    "# 네트워크 상태에 따라 5 ~ 15분이 소요됩니다.\n",
    "with open('./data/raw_data_urls.txt', 'r') as data_urls:\n",
    "    for line, url in enumerate(data_urls):\n",
    "        if line == 5:\n",
    "            break \n",
    "        fn = url.split('/')[-1].strip()\n",
    "        fp = os.path.join('', './data', fn)\n",
    "        print(url)\n",
    "        print(fp)\n",
    "        urllib.request.urlretrieve(url, fp)"
   ]
  },
  {
   "cell_type": "code",
   "execution_count": 52,
   "metadata": {},
   "outputs": [
    {
     "name": "stdout",
     "output_type": "stream",
     "text": "['./data\\\\fhv_tripdata_2015-01.csv', './data\\\\fhv_tripdata_2015-02.csv', './data\\\\fhv_tripdata_2015-03.csv', './data\\\\fhv_tripdata_2015-04.csv', './data\\\\fhv_tripdata_2015-05.csv']\n"
    }
   ],
   "source": [
    "import glob \n",
    "nyc_taxi_data = glob.glob('./data/fhv_*') \n",
    "print(nyc_taxi_data)"
   ]
  },
  {
   "cell_type": "code",
   "execution_count": 53,
   "metadata": {},
   "outputs": [
    {
     "name": "stdout",
     "output_type": "stream",
     "text": "5\n"
    }
   ],
   "source": [
    "list_taxi_df = [] \n",
    "\n",
    "for csv_filename in nyc_taxi_data:\n",
    "    # print(csv_filename)\n",
    "    df = pd.read_csv(csv_filename)\n",
    "    list_taxi_df.append(df) \n",
    "\n",
    "print(len(list_taxi_df))"
   ]
  },
  {
   "cell_type": "code",
   "execution_count": 54,
   "metadata": {},
   "outputs": [
    {
     "name": "stdout",
     "output_type": "stream",
     "text": "<class 'pandas.core.frame.DataFrame'>\n"
    }
   ],
   "source": [
    "print(type(list_taxi_df[0]))"
   ]
  },
  {
   "cell_type": "code",
   "execution_count": 55,
   "metadata": {},
   "outputs": [
    {
     "name": "stdout",
     "output_type": "stream",
     "text": "Dispatching_base_num          Pickup_date  locationID\n0               B00013  2015-01-01 00:30:00         NaN\n1               B00013  2015-01-01 01:22:00         NaN\n2               B00013  2015-01-01 01:23:00         NaN\n3               B00013  2015-01-01 01:44:00         NaN\n4               B00013  2015-01-01 02:00:00         NaN\n"
    }
   ],
   "source": [
    "print(list_taxi_df[0].head())"
   ]
  },
  {
   "cell_type": "code",
   "execution_count": 57,
   "metadata": {},
   "outputs": [
    {
     "name": "stdout",
     "output_type": "stream",
     "text": "(17367717, 3)\n"
    }
   ],
   "source": [
    "taxi_loop_concat = pd.concat(list_taxi_df) \n",
    "print(taxi_loop_concat.shape)"
   ]
  },
  {
   "cell_type": "code",
   "execution_count": 59,
   "metadata": {},
   "outputs": [],
   "source": [
    "taxi = taxi_loop_concat"
   ]
  },
  {
   "cell_type": "code",
   "execution_count": 60,
   "metadata": {},
   "outputs": [
    {
     "name": "stdout",
     "output_type": "stream",
     "text": "True\n"
    }
   ],
   "source": [
    "print(taxi.equals(taxi_loop_concat))"
   ]
  },
  {
   "source": [
    "taxi.head()"
   ],
   "cell_type": "code",
   "outputs": [],
   "metadata": {},
   "execution_count": 0
  },
  {
   "cell_type": "code",
   "execution_count": null,
   "metadata": {},
   "outputs": [],
   "source": []
  }
 ]
}