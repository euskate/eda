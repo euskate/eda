{
 "nbformat": 4,
 "nbformat_minor": 2,
 "metadata": {
  "language_info": {
   "name": "python",
   "codemirror_mode": {
    "name": "ipython",
    "version": 3
   },
   "version": "3.7.4-final"
  },
  "orig_nbformat": 2,
  "file_extension": ".py",
  "mimetype": "text/x-python",
  "name": "python",
  "npconvert_exporter": "python",
  "pygments_lexer": "ipython3",
  "version": 3,
  "kernelspec": {
   "name": "python3",
   "display_name": "Python 3"
  }
 },
 "cells": [
  {
   "cell_type": "code",
   "execution_count": 2,
   "metadata": {},
   "outputs": [],
   "source": [
    "import urllib.request as ul\n",
    "import json, datetime, time\n",
    "import pandas as pd"
   ]
  },
  {
   "cell_type": "code",
   "execution_count": 4,
   "metadata": {},
   "outputs": [
    {
     "name": "stdout",
     "output_type": "stream",
     "text": "20200131\n"
    }
   ],
   "source": [
    "movieDate = time.strftime('%Y%m%d', time.localtime(time.time()))\n",
    "print(movieDate)\n",
    "movieDate = 20200130"
   ]
  },
  {
   "cell_type": "code",
   "execution_count": 10,
   "metadata": {},
   "outputs": [
    {
     "name": "stdout",
     "output_type": "stream",
     "text": "<urllib.request.Request object at 0x000001B7CBA1CB08>\n<http.client.HTTPResponse object at 0x000001B7CB3B1148>\n200\n"
    }
   ],
   "source": [
    "url = f\"http://www.kobis.or.kr/kobisopenapi/webservice/rest/boxoffice/searchDailyBoxOfficeList.json?key=66e652e1d2656b42f10d93c91e0295e4&targetDt={movieDate}\"\n",
    "\n",
    "request = ul.Request(url)\n",
    "print(request)\n",
    "response = ul.urlopen(request)\n",
    "print(response)\n",
    "rescode = response.getcode()\n",
    "print(rescode)\n",
    "if(rescode == 200):\n",
    "    responseData = response.read()"
   ]
  },
  {
   "cell_type": "code",
   "execution_count": 12,
   "metadata": {},
   "outputs": [
    {
     "name": "stdout",
     "output_type": "stream",
     "text": "{'boxOfficeResult': {'boxofficeType': '일별 박스오피스', 'showRange': '20200130~20200130', 'dailyBoxOfficeList': [{'rnum': '1', 'rank': '1', 'rankInten': '0', 'rankOldAndNew': 'OLD', 'movieCd': '20180939', 'movieNm': '남산의 부장들', 'openDt': '2020-01-22', 'salesAmt': '945095180', 'salesShare': '44.0', 'salesInten': '-355976620', 'salesChange': '-27.4', 'salesAcc': '32547144270', 'audiCnt': '118080', 'audiInten': '-93877', 'audiChange': '-44.3', 'audiAcc': '3743582', 'scrnCnt': '1383', 'showCnt': '7262'}, {'rnum': '2', 'rank': '2', 'rankInten': '0', 'rankOldAndNew': 'OLD', 'movieCd': '20192101', 'movieNm': '히트맨', 'openDt': '2020-01-22', 'salesAmt': '602166980', 'salesShare': '28.1', 'salesInten': '-228841510', 'salesChange': '-27.5', 'salesAcc': '15390499240', 'audiCnt': '74508', 'audiInten': '-62668', 'audiChange': '-45.7', 'audiAcc': '1789019', 'scrnCnt': '1027', 'showCnt': '4745'}, {'rnum': '3', 'rank': '3', 'rankInten': '0', 'rankOldAndNew': 'OLD', 'movieCd': '20188421', 'movieNm': '미스터 주: 사라진 VIP', 'openDt': '2020-01-22', 'salesAmt': '92604980', 'salesShare': '4.3', 'salesInten': '-56547680', 'salesChange': '-37.9', 'salesAcc': '4580917060', 'audiCnt': '12298', 'audiInten': '-12283', 'audiChange': '-50', 'audiAcc': '543714', 'scrnCnt': '596', 'showCnt': '1570'}, {'rnum': '4', 'rank': '4', 'rankInten': '0', 'rankOldAndNew': 'OLD', 'movieCd': '20192300', 'movieNm': '스파이 지니어스 ', 'openDt': '2020-01-22', 'salesAmt': '88064900', 'salesShare': '4.1', 'salesInten': '-37017120', 'salesChange': '-29.6', 'salesAcc': '3075484300', 'audiCnt': '11730', 'audiInten': '-8596', 'audiChange': '-42.3', 'audiAcc': '374662', 'scrnCnt': '574', 'showCnt': '1169'}, {'rnum': '5', 'rank': '5', 'rankInten': '0', 'rankOldAndNew': 'OLD', 'movieCd': '20100312', 'movieNm': '인셉션', 'openDt': '2010-07-21', 'salesAmt': '67568700', 'salesShare': '3.1', 'salesInten': '-21178300', 'salesChange': '-23.9', 'salesAcc': '43645889200', 'audiCnt': '8346', 'audiInten': '-6634', 'audiChange': '-44.3', 'audiAcc': '5859100', 'scrnCnt': '204', 'showCnt': '605'}, {'rnum': '6', 'rank': '6', 'rankInten': '0', 'rankOldAndNew': 'OLD', 'movieCd': '20183002', 'movieNm': '해치지않아', 'openDt': '2020-01-15', 'salesAmt': '47241640', 'salesShare': '2.2', 'salesInten': '-34285520', 'salesChange': '-42.1', 'salesAcc': '10043037830', 'audiCnt': '6106', 'audiInten': '-7222', 'audiChange': '-54.2', 'audiAcc': '1195437', 'scrnCnt': '471', 'showCnt': '895'}, {'rnum': '7', 'rank': '7', 'rankInten': '0', 'rankOldAndNew': 'OLD', 'movieCd': '20198676', 'movieNm': '타오르는 여인의 초상', 'openDt': '2020-01-16', 'salesAmt': '35329360', 'salesShare': '1.6', 'salesInten': '-7492020', 'salesChange': '-17.5', 'salesAcc': '791441040', 'audiCnt': '4480', 'audiInten': '-2579', 'audiChange': '-36.5', 'audiAcc': '95398', 'scrnCnt': '142', 'showCnt': '275'}, {'rnum': '8', 'rank': '8', 'rankInten': '13', 'rankOldAndNew': 'OLD', 'movieCd': '20193321', 'movieNm': '정직한 후보', 'openDt': '2020-02-12', 'salesAmt': '29833000', 'salesShare': '1.4', 'salesInten': '25136000', 'salesChange': '535.2', 'salesAcc': '72029000', 'audiCnt': '3943', 'audiInten': '3420', 'audiChange': '653.9', 'audiAcc': '10143', 'scrnCnt': '21', 'showCnt': '22'}, {'rnum': '9', 'rank': '9', 'rankInten': '0', 'rankOldAndNew': 'OLD', 'movieCd': '20196670', 'movieNm': '나쁜 녀석들: 포에버', 'openDt': '2020-01-15', 'salesAmt': '18913800', 'salesShare': '0.9', 'salesInten': '-8837500', 'salesChange': '-31.8', 'salesAcc': '4763880300', 'audiCnt': '2765', 'audiInten': '-1533', 'audiChange': '-35.7', 'audiAcc': '531929', 'scrnCnt': '204', 'showCnt': '297'}, {'rnum': '10', 'rank': '10', 'rankInten': '0', 'rankOldAndNew': 'NEW', 'movieCd': '20193836', 'movieNm': '핑크퐁 시네마 콘서트 : 우주대탐험', 'openDt': '2020-01-30', 'salesAmt': '20010500', 'salesShare': '0.9', 'salesInten': '20010500', 'salesChange': '100', 'salesAcc': '36416500', 'audiCnt': '2693', 'audiInten': '2693', 'audiChange': '100', 'audiAcc': '5235', 'scrnCnt': '176', 'showCnt': '341'}]}}\n{'boxofficeType': '일별 박스오피스', 'showRange': '20200130~20200130', 'dailyBoxOfficeList': [{'rnum': '1', 'rank': '1', 'rankInten': '0', 'rankOldAndNew': 'OLD', 'movieCd': '20180939', 'movieNm': '남산의 부장들', 'openDt': '2020-01-22', 'salesAmt': '945095180', 'salesShare': '44.0', 'salesInten': '-355976620', 'salesChange': '-27.4', 'salesAcc': '32547144270', 'audiCnt': '118080', 'audiInten': '-93877', 'audiChange': '-44.3', 'audiAcc': '3743582', 'scrnCnt': '1383', 'showCnt': '7262'}, {'rnum': '2', 'rank': '2', 'rankInten': '0', 'rankOldAndNew': 'OLD', 'movieCd': '20192101', 'movieNm': '히트맨', 'openDt': '2020-01-22', 'salesAmt': '602166980', 'salesShare': '28.1', 'salesInten': '-228841510', 'salesChange': '-27.5', 'salesAcc': '15390499240', 'audiCnt': '74508', 'audiInten': '-62668', 'audiChange': '-45.7', 'audiAcc': '1789019', 'scrnCnt': '1027', 'showCnt': '4745'}, {'rnum': '3', 'rank': '3', 'rankInten': '0', 'rankOldAndNew': 'OLD', 'movieCd': '20188421', 'movieNm': '미스터 주: 사라진 VIP', 'openDt': '2020-01-22', 'salesAmt': '92604980', 'salesShare': '4.3', 'salesInten': '-56547680', 'salesChange': '-37.9', 'salesAcc': '4580917060', 'audiCnt': '12298', 'audiInten': '-12283', 'audiChange': '-50', 'audiAcc': '543714', 'scrnCnt': '596', 'showCnt': '1570'}, {'rnum': '4', 'rank': '4', 'rankInten': '0', 'rankOldAndNew': 'OLD', 'movieCd': '20192300', 'movieNm': '스파이 지니어스 ', 'openDt': '2020-01-22', 'salesAmt': '88064900', 'salesShare': '4.1', 'salesInten': '-37017120', 'salesChange': '-29.6', 'salesAcc': '3075484300', 'audiCnt': '11730', 'audiInten': '-8596', 'audiChange': '-42.3', 'audiAcc': '374662', 'scrnCnt': '574', 'showCnt': '1169'}, {'rnum': '5', 'rank': '5', 'rankInten': '0', 'rankOldAndNew': 'OLD', 'movieCd': '20100312', 'movieNm': '인셉션', 'openDt': '2010-07-21', 'salesAmt': '67568700', 'salesShare': '3.1', 'salesInten': '-21178300', 'salesChange': '-23.9', 'salesAcc': '43645889200', 'audiCnt': '8346', 'audiInten': '-6634', 'audiChange': '-44.3', 'audiAcc': '5859100', 'scrnCnt': '204', 'showCnt': '605'}, {'rnum': '6', 'rank': '6', 'rankInten': '0', 'rankOldAndNew': 'OLD', 'movieCd': '20183002', 'movieNm': '해치지않아', 'openDt': '2020-01-15', 'salesAmt': '47241640', 'salesShare': '2.2', 'salesInten': '-34285520', 'salesChange': '-42.1', 'salesAcc': '10043037830', 'audiCnt': '6106', 'audiInten': '-7222', 'audiChange': '-54.2', 'audiAcc': '1195437', 'scrnCnt': '471', 'showCnt': '895'}, {'rnum': '7', 'rank': '7', 'rankInten': '0', 'rankOldAndNew': 'OLD', 'movieCd': '20198676', 'movieNm': '타오르는 여인의 초상', 'openDt': '2020-01-16', 'salesAmt': '35329360', 'salesShare': '1.6', 'salesInten': '-7492020', 'salesChange': '-17.5', 'salesAcc': '791441040', 'audiCnt': '4480', 'audiInten': '-2579', 'audiChange': '-36.5', 'audiAcc': '95398', 'scrnCnt': '142', 'showCnt': '275'}, {'rnum': '8', 'rank': '8', 'rankInten': '13', 'rankOldAndNew': 'OLD', 'movieCd': '20193321', 'movieNm': '정직한 후보', 'openDt': '2020-02-12', 'salesAmt': '29833000', 'salesShare': '1.4', 'salesInten': '25136000', 'salesChange': '535.2', 'salesAcc': '72029000', 'audiCnt': '3943', 'audiInten': '3420', 'audiChange': '653.9', 'audiAcc': '10143', 'scrnCnt': '21', 'showCnt': '22'}, {'rnum': '9', 'rank': '9', 'rankInten': '0', 'rankOldAndNew': 'OLD', 'movieCd': '20196670', 'movieNm': '나쁜 녀석들: 포에버', 'openDt': '2020-01-15', 'salesAmt': '18913800', 'salesShare': '0.9', 'salesInten': '-8837500', 'salesChange': '-31.8', 'salesAcc': '4763880300', 'audiCnt': '2765', 'audiInten': '-1533', 'audiChange': '-35.7', 'audiAcc': '531929', 'scrnCnt': '204', 'showCnt': '297'}, {'rnum': '10', 'rank': '10', 'rankInten': '0', 'rankOldAndNew': 'NEW', 'movieCd': '20193836', 'movieNm': '핑크퐁 시네마 콘서트 : 우주대탐험', 'openDt': '2020-01-30', 'salesAmt': '20010500', 'salesShare': '0.9', 'salesInten': '20010500', 'salesChange': '100', 'salesAcc': '36416500', 'audiCnt': '2693', 'audiInten': '2693', 'audiChange': '100', 'audiAcc': '5235', 'scrnCnt': '176', 'showCnt': '341'}]}\n"
    }
   ],
   "source": [
    "result = json.loads(responseData)\n",
    "# print(result)\n",
    "pre_result = result[\"boxOfficeResult\"]\n",
    "print(pre_result)"
   ]
  },
  {
   "cell_type": "code",
   "execution_count": 13,
   "metadata": {},
   "outputs": [
    {
     "name": "stdout",
     "output_type": "stream",
     "text": "[{'rnum': '1', 'rank': '1', 'rankInten': '0', 'rankOldAndNew': 'OLD', 'movieCd': '20180939', 'movieNm': '남산의 부장들', 'openDt': '2020-01-22', 'salesAmt': '945095180', 'salesShare': '44.0', 'salesInten': '-355976620', 'salesChange': '-27.4', 'salesAcc': '32547144270', 'audiCnt': '118080', 'audiInten': '-93877', 'audiChange': '-44.3', 'audiAcc': '3743582', 'scrnCnt': '1383', 'showCnt': '7262'}, {'rnum': '2', 'rank': '2', 'rankInten': '0', 'rankOldAndNew': 'OLD', 'movieCd': '20192101', 'movieNm': '히트맨', 'openDt': '2020-01-22', 'salesAmt': '602166980', 'salesShare': '28.1', 'salesInten': '-228841510', 'salesChange': '-27.5', 'salesAcc': '15390499240', 'audiCnt': '74508', 'audiInten': '-62668', 'audiChange': '-45.7', 'audiAcc': '1789019', 'scrnCnt': '1027', 'showCnt': '4745'}, {'rnum': '3', 'rank': '3', 'rankInten': '0', 'rankOldAndNew': 'OLD', 'movieCd': '20188421', 'movieNm': '미스터 주: 사라진 VIP', 'openDt': '2020-01-22', 'salesAmt': '92604980', 'salesShare': '4.3', 'salesInten': '-56547680', 'salesChange': '-37.9', 'salesAcc': '4580917060', 'audiCnt': '12298', 'audiInten': '-12283', 'audiChange': '-50', 'audiAcc': '543714', 'scrnCnt': '596', 'showCnt': '1570'}, {'rnum': '4', 'rank': '4', 'rankInten': '0', 'rankOldAndNew': 'OLD', 'movieCd': '20192300', 'movieNm': '스파이 지니어스 ', 'openDt': '2020-01-22', 'salesAmt': '88064900', 'salesShare': '4.1', 'salesInten': '-37017120', 'salesChange': '-29.6', 'salesAcc': '3075484300', 'audiCnt': '11730', 'audiInten': '-8596', 'audiChange': '-42.3', 'audiAcc': '374662', 'scrnCnt': '574', 'showCnt': '1169'}, {'rnum': '5', 'rank': '5', 'rankInten': '0', 'rankOldAndNew': 'OLD', 'movieCd': '20100312', 'movieNm': '인셉션', 'openDt': '2010-07-21', 'salesAmt': '67568700', 'salesShare': '3.1', 'salesInten': '-21178300', 'salesChange': '-23.9', 'salesAcc': '43645889200', 'audiCnt': '8346', 'audiInten': '-6634', 'audiChange': '-44.3', 'audiAcc': '5859100', 'scrnCnt': '204', 'showCnt': '605'}, {'rnum': '6', 'rank': '6', 'rankInten': '0', 'rankOldAndNew': 'OLD', 'movieCd': '20183002', 'movieNm': '해치지않아', 'openDt': '2020-01-15', 'salesAmt': '47241640', 'salesShare': '2.2', 'salesInten': '-34285520', 'salesChange': '-42.1', 'salesAcc': '10043037830', 'audiCnt': '6106', 'audiInten': '-7222', 'audiChange': '-54.2', 'audiAcc': '1195437', 'scrnCnt': '471', 'showCnt': '895'}, {'rnum': '7', 'rank': '7', 'rankInten': '0', 'rankOldAndNew': 'OLD', 'movieCd': '20198676', 'movieNm': '타오르는 여인의 초상', 'openDt': '2020-01-16', 'salesAmt': '35329360', 'salesShare': '1.6', 'salesInten': '-7492020', 'salesChange': '-17.5', 'salesAcc': '791441040', 'audiCnt': '4480', 'audiInten': '-2579', 'audiChange': '-36.5', 'audiAcc': '95398', 'scrnCnt': '142', 'showCnt': '275'}, {'rnum': '8', 'rank': '8', 'rankInten': '13', 'rankOldAndNew': 'OLD', 'movieCd': '20193321', 'movieNm': '정직한 후보', 'openDt': '2020-02-12', 'salesAmt': '29833000', 'salesShare': '1.4', 'salesInten': '25136000', 'salesChange': '535.2', 'salesAcc': '72029000', 'audiCnt': '3943', 'audiInten': '3420', 'audiChange': '653.9', 'audiAcc': '10143', 'scrnCnt': '21', 'showCnt': '22'}, {'rnum': '9', 'rank': '9', 'rankInten': '0', 'rankOldAndNew': 'OLD', 'movieCd': '20196670', 'movieNm': '나쁜 녀석들: 포에버', 'openDt': '2020-01-15', 'salesAmt': '18913800', 'salesShare': '0.9', 'salesInten': '-8837500', 'salesChange': '-31.8', 'salesAcc': '4763880300', 'audiCnt': '2765', 'audiInten': '-1533', 'audiChange': '-35.7', 'audiAcc': '531929', 'scrnCnt': '204', 'showCnt': '297'}, {'rnum': '10', 'rank': '10', 'rankInten': '0', 'rankOldAndNew': 'NEW', 'movieCd': '20193836', 'movieNm': '핑크퐁 시네마 콘서트 : 우주대탐험', 'openDt': '2020-01-30', 'salesAmt': '20010500', 'salesShare': '0.9', 'salesInten': '20010500', 'salesChange': '100', 'salesAcc': '36416500', 'audiCnt': '2693', 'audiInten': '2693', 'audiChange': '100', 'audiAcc': '5235', 'scrnCnt': '176', 'showCnt': '341'}]\n"
    }
   ],
   "source": [
    "pre_result1 = pre_result['dailyBoxOfficeList']\n",
    "print(pre_result1)"
   ]
  },
  {
   "cell_type": "code",
   "execution_count": 14,
   "metadata": {},
   "outputs": [
    {
     "name": "stdout",
     "output_type": "stream",
     "text": "[{}, {'rnum': '1', 'rank': '1', 'rankInten': '0', 'rankOldAndNew': 'OLD', 'movieCd': '20180939', 'movieNm': '남산의 부장들', 'openDt': '2020-01-22', 'salesAmt': '945095180', 'salesShare': '44.0', 'salesInten': '-355976620', 'salesChange': '-27.4', 'salesAcc': '32547144270', 'audiCnt': '118080', 'audiInten': '-93877', 'audiChange': '-44.3', 'audiAcc': '3743582', 'scrnCnt': '1383', 'showCnt': '7262', 'targetDt': 20200130}, {'rnum': '2', 'rank': '2', 'rankInten': '0', 'rankOldAndNew': 'OLD', 'movieCd': '20192101', 'movieNm': '히트맨', 'openDt': '2020-01-22', 'salesAmt': '602166980', 'salesShare': '28.1', 'salesInten': '-228841510', 'salesChange': '-27.5', 'salesAcc': '15390499240', 'audiCnt': '74508', 'audiInten': '-62668', 'audiChange': '-45.7', 'audiAcc': '1789019', 'scrnCnt': '1027', 'showCnt': '4745', 'targetDt': 20200130}, {'rnum': '3', 'rank': '3', 'rankInten': '0', 'rankOldAndNew': 'OLD', 'movieCd': '20188421', 'movieNm': '미스터 주: 사라진 VIP', 'openDt': '2020-01-22', 'salesAmt': '92604980', 'salesShare': '4.3', 'salesInten': '-56547680', 'salesChange': '-37.9', 'salesAcc': '4580917060', 'audiCnt': '12298', 'audiInten': '-12283', 'audiChange': '-50', 'audiAcc': '543714', 'scrnCnt': '596', 'showCnt': '1570', 'targetDt': 20200130}, {'rnum': '4', 'rank': '4', 'rankInten': '0', 'rankOldAndNew': 'OLD', 'movieCd': '20192300', 'movieNm': '스파이 지니어스 ', 'openDt': '2020-01-22', 'salesAmt': '88064900', 'salesShare': '4.1', 'salesInten': '-37017120', 'salesChange': '-29.6', 'salesAcc': '3075484300', 'audiCnt': '11730', 'audiInten': '-8596', 'audiChange': '-42.3', 'audiAcc': '374662', 'scrnCnt': '574', 'showCnt': '1169', 'targetDt': 20200130}, {'rnum': '5', 'rank': '5', 'rankInten': '0', 'rankOldAndNew': 'OLD', 'movieCd': '20100312', 'movieNm': '인셉션', 'openDt': '2010-07-21', 'salesAmt': '67568700', 'salesShare': '3.1', 'salesInten': '-21178300', 'salesChange': '-23.9', 'salesAcc': '43645889200', 'audiCnt': '8346', 'audiInten': '-6634', 'audiChange': '-44.3', 'audiAcc': '5859100', 'scrnCnt': '204', 'showCnt': '605', 'targetDt': 20200130}, {'rnum': '6', 'rank': '6', 'rankInten': '0', 'rankOldAndNew': 'OLD', 'movieCd': '20183002', 'movieNm': '해치지않아', 'openDt': '2020-01-15', 'salesAmt': '47241640', 'salesShare': '2.2', 'salesInten': '-34285520', 'salesChange': '-42.1', 'salesAcc': '10043037830', 'audiCnt': '6106', 'audiInten': '-7222', 'audiChange': '-54.2', 'audiAcc': '1195437', 'scrnCnt': '471', 'showCnt': '895', 'targetDt': 20200130}, {'rnum': '7', 'rank': '7', 'rankInten': '0', 'rankOldAndNew': 'OLD', 'movieCd': '20198676', 'movieNm': '타오르는 여인의 초상', 'openDt': '2020-01-16', 'salesAmt': '35329360', 'salesShare': '1.6', 'salesInten': '-7492020', 'salesChange': '-17.5', 'salesAcc': '791441040', 'audiCnt': '4480', 'audiInten': '-2579', 'audiChange': '-36.5', 'audiAcc': '95398', 'scrnCnt': '142', 'showCnt': '275', 'targetDt': 20200130}, {'rnum': '8', 'rank': '8', 'rankInten': '13', 'rankOldAndNew': 'OLD', 'movieCd': '20193321', 'movieNm': '정직한 후보', 'openDt': '2020-02-12', 'salesAmt': '29833000', 'salesShare': '1.4', 'salesInten': '25136000', 'salesChange': '535.2', 'salesAcc': '72029000', 'audiCnt': '3943', 'audiInten': '3420', 'audiChange': '653.9', 'audiAcc': '10143', 'scrnCnt': '21', 'showCnt': '22', 'targetDt': 20200130}, {'rnum': '9', 'rank': '9', 'rankInten': '0', 'rankOldAndNew': 'OLD', 'movieCd': '20196670', 'movieNm': '나쁜 녀석들: 포에버', 'openDt': '2020-01-15', 'salesAmt': '18913800', 'salesShare': '0.9', 'salesInten': '-8837500', 'salesChange': '-31.8', 'salesAcc': '4763880300', 'audiCnt': '2765', 'audiInten': '-1533', 'audiChange': '-35.7', 'audiAcc': '531929', 'scrnCnt': '204', 'showCnt': '297', 'targetDt': 20200130}, {'rnum': '10', 'rank': '10', 'rankInten': '0', 'rankOldAndNew': 'NEW', 'movieCd': '20193836', 'movieNm': '핑크퐁 시네마 콘서트 : 우주대탐험', 'openDt': '2020-01-30', 'salesAmt': '20010500', 'salesShare': '0.9', 'salesInten': '20010500', 'salesChange': '100', 'salesAcc': '36416500', 'audiCnt': '2693', 'audiInten': '2693', 'audiChange': '100', 'audiAcc': '5235', 'scrnCnt': '176', 'showCnt': '341', 'targetDt': 20200130}]\n"
    }
   ],
   "source": [
    "cine = [{}]\n",
    "# 날짜, 영화이름, 누적 관객수\n",
    "for i in range(0, len(pre_result1)):\n",
    "    pre_result1[i]['targetDt'] = movieDate\n",
    "    cine.append(pre_result1[i])\n",
    "print(cine)\n"
   ]
  },
  {
   "cell_type": "code",
   "execution_count": 15,
   "metadata": {},
   "outputs": [],
   "source": [
    "# 반복 함수 마지막에 날짜를 줄이는 함수를 사용한다.\n",
    "# str -> date\n",
    "datetime_obj = datetime.datetime.strptime(str(movieDate), \"%Y%m%d\")\n",
    "# 1주일 씩 시간을 줄여간다.\n",
    "datetime_obj_tmp = datetime_obj - datetime.timedelta(days=1)\n",
    "# datetime_obj_tmp = datetime_obj - datetime.timedelta(weeks=1)\n",
    "\n",
    "# date -> str\n",
    "day = datetime_obj_tmp.strftime(\"%Y-%m-%d\").split('-')\n",
    "movieDate = day[0]+day[1]+day[2]\n",
    "print(movieDate)\n"
   ]
  },
  {
   "cell_type": "code",
   "execution_count": 22,
   "metadata": {},
   "outputs": [
    {
     "data": {
      "text/html": "<div>\n<style scoped>\n    .dataframe tbody tr th:only-of-type {\n        vertical-align: middle;\n    }\n\n    .dataframe tbody tr th {\n        vertical-align: top;\n    }\n\n    .dataframe thead th {\n        text-align: right;\n    }\n</style>\n<table border=\"1\" class=\"dataframe\">\n  <thead>\n    <tr style=\"text-align: right;\">\n      <th></th>\n      <th>rnum</th>\n      <th>rank</th>\n      <th>rankInten</th>\n      <th>rankOldAndNew</th>\n      <th>movieCd</th>\n      <th>movieNm</th>\n      <th>openDt</th>\n      <th>salesAmt</th>\n      <th>salesShare</th>\n      <th>salesInten</th>\n      <th>salesChange</th>\n      <th>salesAcc</th>\n      <th>audiCnt</th>\n      <th>audiInten</th>\n      <th>audiChange</th>\n      <th>audiAcc</th>\n      <th>scrnCnt</th>\n      <th>showCnt</th>\n      <th>targetDt</th>\n    </tr>\n  </thead>\n  <tbody>\n    <tr>\n      <td>1</td>\n      <td>1</td>\n      <td>1</td>\n      <td>0</td>\n      <td>OLD</td>\n      <td>20180939</td>\n      <td>남산의 부장들</td>\n      <td>2020-01-22</td>\n      <td>945095180</td>\n      <td>44.0</td>\n      <td>-355976620</td>\n      <td>-27.4</td>\n      <td>32547144270</td>\n      <td>118080</td>\n      <td>-93877</td>\n      <td>-44.3</td>\n      <td>3743582</td>\n      <td>1383</td>\n      <td>7262</td>\n      <td>20200130.0</td>\n    </tr>\n    <tr>\n      <td>2</td>\n      <td>2</td>\n      <td>2</td>\n      <td>0</td>\n      <td>OLD</td>\n      <td>20192101</td>\n      <td>히트맨</td>\n      <td>2020-01-22</td>\n      <td>602166980</td>\n      <td>28.1</td>\n      <td>-228841510</td>\n      <td>-27.5</td>\n      <td>15390499240</td>\n      <td>74508</td>\n      <td>-62668</td>\n      <td>-45.7</td>\n      <td>1789019</td>\n      <td>1027</td>\n      <td>4745</td>\n      <td>20200130.0</td>\n    </tr>\n    <tr>\n      <td>3</td>\n      <td>3</td>\n      <td>3</td>\n      <td>0</td>\n      <td>OLD</td>\n      <td>20188421</td>\n      <td>미스터 주: 사라진 VIP</td>\n      <td>2020-01-22</td>\n      <td>92604980</td>\n      <td>4.3</td>\n      <td>-56547680</td>\n      <td>-37.9</td>\n      <td>4580917060</td>\n      <td>12298</td>\n      <td>-12283</td>\n      <td>-50</td>\n      <td>543714</td>\n      <td>596</td>\n      <td>1570</td>\n      <td>20200130.0</td>\n    </tr>\n    <tr>\n      <td>4</td>\n      <td>4</td>\n      <td>4</td>\n      <td>0</td>\n      <td>OLD</td>\n      <td>20192300</td>\n      <td>스파이 지니어스</td>\n      <td>2020-01-22</td>\n      <td>88064900</td>\n      <td>4.1</td>\n      <td>-37017120</td>\n      <td>-29.6</td>\n      <td>3075484300</td>\n      <td>11730</td>\n      <td>-8596</td>\n      <td>-42.3</td>\n      <td>374662</td>\n      <td>574</td>\n      <td>1169</td>\n      <td>20200130.0</td>\n    </tr>\n    <tr>\n      <td>5</td>\n      <td>5</td>\n      <td>5</td>\n      <td>0</td>\n      <td>OLD</td>\n      <td>20100312</td>\n      <td>인셉션</td>\n      <td>2010-07-21</td>\n      <td>67568700</td>\n      <td>3.1</td>\n      <td>-21178300</td>\n      <td>-23.9</td>\n      <td>43645889200</td>\n      <td>8346</td>\n      <td>-6634</td>\n      <td>-44.3</td>\n      <td>5859100</td>\n      <td>204</td>\n      <td>605</td>\n      <td>20200130.0</td>\n    </tr>\n    <tr>\n      <td>6</td>\n      <td>6</td>\n      <td>6</td>\n      <td>0</td>\n      <td>OLD</td>\n      <td>20183002</td>\n      <td>해치지않아</td>\n      <td>2020-01-15</td>\n      <td>47241640</td>\n      <td>2.2</td>\n      <td>-34285520</td>\n      <td>-42.1</td>\n      <td>10043037830</td>\n      <td>6106</td>\n      <td>-7222</td>\n      <td>-54.2</td>\n      <td>1195437</td>\n      <td>471</td>\n      <td>895</td>\n      <td>20200130.0</td>\n    </tr>\n    <tr>\n      <td>7</td>\n      <td>7</td>\n      <td>7</td>\n      <td>0</td>\n      <td>OLD</td>\n      <td>20198676</td>\n      <td>타오르는 여인의 초상</td>\n      <td>2020-01-16</td>\n      <td>35329360</td>\n      <td>1.6</td>\n      <td>-7492020</td>\n      <td>-17.5</td>\n      <td>791441040</td>\n      <td>4480</td>\n      <td>-2579</td>\n      <td>-36.5</td>\n      <td>95398</td>\n      <td>142</td>\n      <td>275</td>\n      <td>20200130.0</td>\n    </tr>\n    <tr>\n      <td>8</td>\n      <td>8</td>\n      <td>8</td>\n      <td>13</td>\n      <td>OLD</td>\n      <td>20193321</td>\n      <td>정직한 후보</td>\n      <td>2020-02-12</td>\n      <td>29833000</td>\n      <td>1.4</td>\n      <td>25136000</td>\n      <td>535.2</td>\n      <td>72029000</td>\n      <td>3943</td>\n      <td>3420</td>\n      <td>653.9</td>\n      <td>10143</td>\n      <td>21</td>\n      <td>22</td>\n      <td>20200130.0</td>\n    </tr>\n    <tr>\n      <td>9</td>\n      <td>9</td>\n      <td>9</td>\n      <td>0</td>\n      <td>OLD</td>\n      <td>20196670</td>\n      <td>나쁜 녀석들: 포에버</td>\n      <td>2020-01-15</td>\n      <td>18913800</td>\n      <td>0.9</td>\n      <td>-8837500</td>\n      <td>-31.8</td>\n      <td>4763880300</td>\n      <td>2765</td>\n      <td>-1533</td>\n      <td>-35.7</td>\n      <td>531929</td>\n      <td>204</td>\n      <td>297</td>\n      <td>20200130.0</td>\n    </tr>\n    <tr>\n      <td>10</td>\n      <td>10</td>\n      <td>10</td>\n      <td>0</td>\n      <td>NEW</td>\n      <td>20193836</td>\n      <td>핑크퐁 시네마 콘서트 : 우주대탐험</td>\n      <td>2020-01-30</td>\n      <td>20010500</td>\n      <td>0.9</td>\n      <td>20010500</td>\n      <td>100</td>\n      <td>36416500</td>\n      <td>2693</td>\n      <td>2693</td>\n      <td>100</td>\n      <td>5235</td>\n      <td>176</td>\n      <td>341</td>\n      <td>20200130.0</td>\n    </tr>\n  </tbody>\n</table>\n</div>",
      "text/plain": "   rnum rank rankInten rankOldAndNew   movieCd              movieNm  \\\n1     1    1         0           OLD  20180939              남산의 부장들   \n2     2    2         0           OLD  20192101                  히트맨   \n3     3    3         0           OLD  20188421       미스터 주: 사라진 VIP   \n4     4    4         0           OLD  20192300            스파이 지니어스    \n5     5    5         0           OLD  20100312                  인셉션   \n6     6    6         0           OLD  20183002                해치지않아   \n7     7    7         0           OLD  20198676          타오르는 여인의 초상   \n8     8    8        13           OLD  20193321               정직한 후보   \n9     9    9         0           OLD  20196670          나쁜 녀석들: 포에버   \n10   10   10         0           NEW  20193836  핑크퐁 시네마 콘서트 : 우주대탐험   \n\n        openDt   salesAmt salesShare  salesInten salesChange     salesAcc  \\\n1   2020-01-22  945095180       44.0  -355976620       -27.4  32547144270   \n2   2020-01-22  602166980       28.1  -228841510       -27.5  15390499240   \n3   2020-01-22   92604980        4.3   -56547680       -37.9   4580917060   \n4   2020-01-22   88064900        4.1   -37017120       -29.6   3075484300   \n5   2010-07-21   67568700        3.1   -21178300       -23.9  43645889200   \n6   2020-01-15   47241640        2.2   -34285520       -42.1  10043037830   \n7   2020-01-16   35329360        1.6    -7492020       -17.5    791441040   \n8   2020-02-12   29833000        1.4    25136000       535.2     72029000   \n9   2020-01-15   18913800        0.9    -8837500       -31.8   4763880300   \n10  2020-01-30   20010500        0.9    20010500         100     36416500   \n\n   audiCnt audiInten audiChange  audiAcc scrnCnt showCnt    targetDt  \n1   118080    -93877      -44.3  3743582    1383    7262  20200130.0  \n2    74508    -62668      -45.7  1789019    1027    4745  20200130.0  \n3    12298    -12283        -50   543714     596    1570  20200130.0  \n4    11730     -8596      -42.3   374662     574    1169  20200130.0  \n5     8346     -6634      -44.3  5859100     204     605  20200130.0  \n6     6106     -7222      -54.2  1195437     471     895  20200130.0  \n7     4480     -2579      -36.5    95398     142     275  20200130.0  \n8     3943      3420      653.9    10143      21      22  20200130.0  \n9     2765     -1533      -35.7   531929     204     297  20200130.0  \n10    2693      2693        100     5235     176     341  20200130.0  "
     },
     "execution_count": 22,
     "metadata": {},
     "output_type": "execute_result"
    }
   ],
   "source": [
    "df = pd.DataFrame(cine)\n",
    "df = df[1:] # 첫행이 비어있음\n",
    "df"
   ]
  },
  {
   "cell_type": "code",
   "execution_count": 23,
   "metadata": {},
   "outputs": [],
   "source": [
    "df.to_csv(\"cine.csv\")"
   ]
  },
  {
   "cell_type": "code",
   "execution_count": null,
   "metadata": {},
   "outputs": [],
   "source": [
    "import matplotlib.pyplot as plt\n",
    "import seaborn as sns\n"
   ]
  }
 ]
}