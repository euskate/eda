{
 "nbformat": 4,
 "nbformat_minor": 2,
 "metadata": {
  "language_info": {
   "name": "python",
   "codemirror_mode": {
    "name": "ipython",
    "version": 3
   },
   "version": "3.7.4-final"
  },
  "orig_nbformat": 2,
  "file_extension": ".py",
  "mimetype": "text/x-python",
  "name": "python",
  "npconvert_exporter": "python",
  "pygments_lexer": "ipython3",
  "version": 3,
  "kernelspec": {
   "name": "python3",
   "display_name": "Python 3"
  }
 },
 "cells": [
  {
   "cell_type": "code",
   "execution_count": 1,
   "metadata": {},
   "outputs": [],
   "source": [
    "# 누락값 확인하기\n",
    "from numpy import NaN, NAN, nan\n",
    "# NaN = Not a Number"
   ]
  },
  {
   "cell_type": "code",
   "execution_count": 2,
   "metadata": {},
   "outputs": [
    {
     "data": {
      "text/plain": "False"
     },
     "execution_count": 2,
     "metadata": {},
     "output_type": "execute_result"
    }
   ],
   "source": [
    "NaN == True"
   ]
  },
  {
   "cell_type": "code",
   "execution_count": 3,
   "metadata": {},
   "outputs": [
    {
     "data": {
      "text/plain": "False"
     },
     "execution_count": 3,
     "metadata": {},
     "output_type": "execute_result"
    }
   ],
   "source": [
    "NaN == False"
   ]
  },
  {
   "cell_type": "code",
   "execution_count": 8,
   "metadata": {},
   "outputs": [
    {
     "name": "stdout",
     "output_type": "stream",
     "text": "True\nTrue\nTrue\n"
    }
   ],
   "source": [
    "import pandas as pd\n",
    "\n",
    "print(pd.isnull(NaN))\n",
    "print(pd.isnull(nan))\n",
    "print(pd.isnull(NAN))"
   ]
  },
  {
   "cell_type": "code",
   "execution_count": 10,
   "metadata": {},
   "outputs": [
    {
     "name": "stdout",
     "output_type": "stream",
     "text": "False\nTrue\nTrue\n"
    }
   ],
   "source": [
    "print(pd.notnull(NaN))\n",
    "print(pd.notnull(12))\n",
    "print(pd.notnull('a'))"
   ]
  },
  {
   "cell_type": "code",
   "execution_count": 13,
   "metadata": {},
   "outputs": [
    {
     "name": "stdout",
     "output_type": "stream",
     "text": "ident   site       dated\n0    619   DR-1  1927-02-08\n1    622   DR-1  1927-02-10\n2    734   DR-3  1939-01-07\n3    735   DR-3  1930-01-12\n4    751   DR-3  1930-02-26\n5    752   DR-3         NaN\n6    837  MSK-4  1932-01-14\n7    844   DR-1  1932-03-22\n    taken person quant  reading\n0     619   dyer   rad     9.82\n1     619   dyer   sal     0.13\n2     622   dyer   rad     7.80\n3     622   dyer   sal     0.09\n4     734     pb   rad     8.41\n5     734   lake   sal     0.05\n6     734     pb  temp   -21.50\n7     735     pb   rad     7.22\n8     735    NaN   sal     0.06\n9     735    NaN  temp   -26.00\n10    751     pb   rad     4.35\n11    751     pb  temp   -18.50\n12    751   lake   sal     0.10\n13    752   lake   rad     2.19\n14    752   lake   sal     0.09\n15    752   lake  temp   -16.00\n16    752    roe   sal    41.60\n17    837   lake   rad     1.46\n18    837   lake   sal     0.21\n19    837    roe   sal    22.50\n20    844    roe   rad    11.25\n"
    }
   ],
   "source": [
    "visited = pd.read_csv('./data/survey_visited.csv') \n",
    "survey = pd.read_csv('./data/survey_survey.csv')\n",
    "\n",
    "print(visited)\n",
    "print(survey)"
   ]
  },
  {
   "cell_type": "code",
   "execution_count": 15,
   "metadata": {},
   "outputs": [
    {
     "data": {
      "text/html": "<div>\n<style scoped>\n    .dataframe tbody tr th:only-of-type {\n        vertical-align: middle;\n    }\n\n    .dataframe tbody tr th {\n        vertical-align: top;\n    }\n\n    .dataframe thead th {\n        text-align: right;\n    }\n</style>\n<table border=\"1\" class=\"dataframe\">\n  <thead>\n    <tr style=\"text-align: right;\">\n      <th></th>\n      <th>ident</th>\n      <th>site</th>\n      <th>dated</th>\n      <th>taken</th>\n      <th>person</th>\n      <th>quant</th>\n      <th>reading</th>\n    </tr>\n  </thead>\n  <tbody>\n    <tr>\n      <td>0</td>\n      <td>619</td>\n      <td>DR-1</td>\n      <td>1927-02-08</td>\n      <td>619</td>\n      <td>dyer</td>\n      <td>rad</td>\n      <td>9.82</td>\n    </tr>\n    <tr>\n      <td>1</td>\n      <td>619</td>\n      <td>DR-1</td>\n      <td>1927-02-08</td>\n      <td>619</td>\n      <td>dyer</td>\n      <td>sal</td>\n      <td>0.13</td>\n    </tr>\n    <tr>\n      <td>2</td>\n      <td>622</td>\n      <td>DR-1</td>\n      <td>1927-02-10</td>\n      <td>622</td>\n      <td>dyer</td>\n      <td>rad</td>\n      <td>7.80</td>\n    </tr>\n    <tr>\n      <td>3</td>\n      <td>622</td>\n      <td>DR-1</td>\n      <td>1927-02-10</td>\n      <td>622</td>\n      <td>dyer</td>\n      <td>sal</td>\n      <td>0.09</td>\n    </tr>\n    <tr>\n      <td>4</td>\n      <td>734</td>\n      <td>DR-3</td>\n      <td>1939-01-07</td>\n      <td>734</td>\n      <td>pb</td>\n      <td>rad</td>\n      <td>8.41</td>\n    </tr>\n    <tr>\n      <td>5</td>\n      <td>734</td>\n      <td>DR-3</td>\n      <td>1939-01-07</td>\n      <td>734</td>\n      <td>lake</td>\n      <td>sal</td>\n      <td>0.05</td>\n    </tr>\n    <tr>\n      <td>6</td>\n      <td>734</td>\n      <td>DR-3</td>\n      <td>1939-01-07</td>\n      <td>734</td>\n      <td>pb</td>\n      <td>temp</td>\n      <td>-21.50</td>\n    </tr>\n    <tr>\n      <td>7</td>\n      <td>735</td>\n      <td>DR-3</td>\n      <td>1930-01-12</td>\n      <td>735</td>\n      <td>pb</td>\n      <td>rad</td>\n      <td>7.22</td>\n    </tr>\n    <tr>\n      <td>8</td>\n      <td>735</td>\n      <td>DR-3</td>\n      <td>1930-01-12</td>\n      <td>735</td>\n      <td>NaN</td>\n      <td>sal</td>\n      <td>0.06</td>\n    </tr>\n    <tr>\n      <td>9</td>\n      <td>735</td>\n      <td>DR-3</td>\n      <td>1930-01-12</td>\n      <td>735</td>\n      <td>NaN</td>\n      <td>temp</td>\n      <td>-26.00</td>\n    </tr>\n    <tr>\n      <td>10</td>\n      <td>751</td>\n      <td>DR-3</td>\n      <td>1930-02-26</td>\n      <td>751</td>\n      <td>pb</td>\n      <td>rad</td>\n      <td>4.35</td>\n    </tr>\n    <tr>\n      <td>11</td>\n      <td>751</td>\n      <td>DR-3</td>\n      <td>1930-02-26</td>\n      <td>751</td>\n      <td>pb</td>\n      <td>temp</td>\n      <td>-18.50</td>\n    </tr>\n    <tr>\n      <td>12</td>\n      <td>751</td>\n      <td>DR-3</td>\n      <td>1930-02-26</td>\n      <td>751</td>\n      <td>lake</td>\n      <td>sal</td>\n      <td>0.10</td>\n    </tr>\n    <tr>\n      <td>13</td>\n      <td>752</td>\n      <td>DR-3</td>\n      <td>NaN</td>\n      <td>752</td>\n      <td>lake</td>\n      <td>rad</td>\n      <td>2.19</td>\n    </tr>\n    <tr>\n      <td>14</td>\n      <td>752</td>\n      <td>DR-3</td>\n      <td>NaN</td>\n      <td>752</td>\n      <td>lake</td>\n      <td>sal</td>\n      <td>0.09</td>\n    </tr>\n    <tr>\n      <td>15</td>\n      <td>752</td>\n      <td>DR-3</td>\n      <td>NaN</td>\n      <td>752</td>\n      <td>lake</td>\n      <td>temp</td>\n      <td>-16.00</td>\n    </tr>\n    <tr>\n      <td>16</td>\n      <td>752</td>\n      <td>DR-3</td>\n      <td>NaN</td>\n      <td>752</td>\n      <td>roe</td>\n      <td>sal</td>\n      <td>41.60</td>\n    </tr>\n    <tr>\n      <td>17</td>\n      <td>837</td>\n      <td>MSK-4</td>\n      <td>1932-01-14</td>\n      <td>837</td>\n      <td>lake</td>\n      <td>rad</td>\n      <td>1.46</td>\n    </tr>\n    <tr>\n      <td>18</td>\n      <td>837</td>\n      <td>MSK-4</td>\n      <td>1932-01-14</td>\n      <td>837</td>\n      <td>lake</td>\n      <td>sal</td>\n      <td>0.21</td>\n    </tr>\n    <tr>\n      <td>19</td>\n      <td>837</td>\n      <td>MSK-4</td>\n      <td>1932-01-14</td>\n      <td>837</td>\n      <td>roe</td>\n      <td>sal</td>\n      <td>22.50</td>\n    </tr>\n    <tr>\n      <td>20</td>\n      <td>844</td>\n      <td>DR-1</td>\n      <td>1932-03-22</td>\n      <td>844</td>\n      <td>roe</td>\n      <td>rad</td>\n      <td>11.25</td>\n    </tr>\n  </tbody>\n</table>\n</div>",
      "text/plain": "    ident   site       dated  taken person quant  reading\n0     619   DR-1  1927-02-08    619   dyer   rad     9.82\n1     619   DR-1  1927-02-08    619   dyer   sal     0.13\n2     622   DR-1  1927-02-10    622   dyer   rad     7.80\n3     622   DR-1  1927-02-10    622   dyer   sal     0.09\n4     734   DR-3  1939-01-07    734     pb   rad     8.41\n5     734   DR-3  1939-01-07    734   lake   sal     0.05\n6     734   DR-3  1939-01-07    734     pb  temp   -21.50\n7     735   DR-3  1930-01-12    735     pb   rad     7.22\n8     735   DR-3  1930-01-12    735    NaN   sal     0.06\n9     735   DR-3  1930-01-12    735    NaN  temp   -26.00\n10    751   DR-3  1930-02-26    751     pb   rad     4.35\n11    751   DR-3  1930-02-26    751     pb  temp   -18.50\n12    751   DR-3  1930-02-26    751   lake   sal     0.10\n13    752   DR-3         NaN    752   lake   rad     2.19\n14    752   DR-3         NaN    752   lake   sal     0.09\n15    752   DR-3         NaN    752   lake  temp   -16.00\n16    752   DR-3         NaN    752    roe   sal    41.60\n17    837  MSK-4  1932-01-14    837   lake   rad     1.46\n18    837  MSK-4  1932-01-14    837   lake   sal     0.21\n19    837  MSK-4  1932-01-14    837    roe   sal    22.50\n20    844   DR-1  1932-03-22    844    roe   rad    11.25"
     },
     "execution_count": 15,
     "metadata": {},
     "output_type": "execute_result"
    }
   ],
   "source": [
    "vs = visited.merge(survey, left_on='ident', right_on='taken')\n",
    "vs"
   ]
  },
  {
   "cell_type": "code",
   "execution_count": 16,
   "metadata": {},
   "outputs": [
    {
     "name": "stdout",
     "output_type": "stream",
     "text": "Name    Occupation        Born        Died  missing\n0  Rosaline Franklin       Chemist  1920-07-25  1958-04-16      NaN\n1     William Gosset  Statistician  1876-06-13  1937-10-16      NaN\n<class 'pandas.core.frame.DataFrame'>\n"
    }
   ],
   "source": [
    "scientists = pd.DataFrame({ \n",
    "    'Name': ['Rosaline Franklin', 'William Gosset'], \n",
    "    'Occupation': ['Chemist', 'Statistician'], \n",
    "    'Born': ['1920-07-25', '1876-06-13'], \n",
    "    'Died': ['1958-04-16', '1937-10-16'], \n",
    "    'missing': [NaN, nan]}) \n",
    "\n",
    "print(scientists)\n",
    "print(type(scientists))"
   ]
  },
  {
   "cell_type": "code",
   "execution_count": 17,
   "metadata": {},
   "outputs": [],
   "source": [
    "gapminder = pd.read_csv('./data/gapminder.tsv', sep='\\t')"
   ]
  },
  {
   "cell_type": "code",
   "execution_count": 18,
   "metadata": {},
   "outputs": [
    {
     "name": "stdout",
     "output_type": "stream",
     "text": "year\n1952    49.057620\n1957    51.507401\n1962    53.609249\n1967    55.678290\n1972    57.647386\n1977    59.570157\n1982    61.533197\n1987    63.212613\n1992    64.160338\n1997    65.014676\n2002    65.694923\n2007    67.007423\nName: lifeExp, dtype: float64\n"
    }
   ],
   "source": [
    "life_exp = gapminder.groupby(['year'])['lifeExp'].mean() \n",
    "print(life_exp)"
   ]
  },
  {
   "cell_type": "code",
   "execution_count": 19,
   "metadata": {},
   "outputs": [
    {
     "name": "stdout",
     "output_type": "stream",
     "text": "year\n2000          NaN\n2001          NaN\n2002    65.694923\n2003          NaN\n2004          NaN\n2005          NaN\n2006          NaN\n2007    67.007423\n2008          NaN\n2009          NaN\nName: lifeExp, dtype: float64\nC:\\Users\\admin\\Anaconda3\\lib\\site-packages\\ipykernel_launcher.py:1: FutureWarning: \nPassing list-likes to .loc or [] with any missing label will raise\nKeyError in the future, you can use .reindex() as an alternative.\n\nSee the documentation here:\nhttps://pandas.pydata.org/pandas-docs/stable/user_guide/indexing.html#deprecate-loc-reindex-listlike\n  \"\"\"Entry point for launching an IPython kernel.\n"
    }
   ],
   "source": [
    "print(life_exp.loc[range(2000,2010)])"
   ]
  },
  {
   "cell_type": "code",
   "execution_count": 21,
   "metadata": {},
   "outputs": [
    {
     "data": {
      "text/plain": "array([False, False, False, False, False, False, False, False, False,\n       False,  True,  True])"
     },
     "execution_count": 21,
     "metadata": {},
     "output_type": "execute_result"
    }
   ],
   "source": [
    "life_exp.index > 2000"
   ]
  },
  {
   "cell_type": "code",
   "execution_count": 22,
   "metadata": {},
   "outputs": [],
   "source": [
    "ebola = pd.read_csv('./data/country_timeseries.csv')"
   ]
  },
  {
   "cell_type": "code",
   "execution_count": 23,
   "metadata": {},
   "outputs": [
    {
     "name": "stdout",
     "output_type": "stream",
     "text": "Date                   122\nDay                    122\nCases_Guinea            93\nCases_Liberia           83\nCases_SierraLeone       87\nCases_Nigeria           38\nCases_Senegal           25\nCases_UnitedStates      18\nCases_Spain             16\nCases_Mali              12\nDeaths_Guinea           92\nDeaths_Liberia          81\nDeaths_SierraLeone      87\nDeaths_Nigeria          38\nDeaths_Senegal          22\nDeaths_UnitedStates     18\nDeaths_Spain            16\nDeaths_Mali             12\ndtype: int64\n"
    }
   ],
   "source": [
    "print(ebola.count())"
   ]
  },
  {
   "cell_type": "code",
   "execution_count": 26,
   "metadata": {},
   "outputs": [
    {
     "data": {
      "text/plain": "Date                     0\nDay                      0\nCases_Guinea            29\nCases_Liberia           39\nCases_SierraLeone       35\nCases_Nigeria           84\nCases_Senegal           97\nCases_UnitedStates     104\nCases_Spain            106\nCases_Mali             110\nDeaths_Guinea           30\nDeaths_Liberia          41\nDeaths_SierraLeone      35\nDeaths_Nigeria          84\nDeaths_Senegal         100\nDeaths_UnitedStates    104\nDeaths_Spain           106\nDeaths_Mali            110\ndtype: int64"
     },
     "execution_count": 26,
     "metadata": {},
     "output_type": "execute_result"
    }
   ],
   "source": [
    "num_rows = ebola.shape[0]\n",
    "num_rows - ebola.count()"
   ]
  },
  {
   "cell_type": "code",
   "execution_count": 30,
   "metadata": {},
   "outputs": [
    {
     "data": {
      "text/plain": "1214"
     },
     "execution_count": 30,
     "metadata": {},
     "output_type": "execute_result"
    }
   ],
   "source": [
    "import numpy as np\n",
    "\n",
    "# ebola.isnull()\n",
    "np.count_nonzero(ebola.isnull())"
   ]
  },
  {
   "cell_type": "code",
   "execution_count": 31,
   "metadata": {},
   "outputs": [
    {
     "data": {
      "text/plain": "29"
     },
     "execution_count": 31,
     "metadata": {},
     "output_type": "execute_result"
    }
   ],
   "source": [
    "np.count_nonzero(ebola['Cases_Guinea'].isnull())"
   ]
  },
  {
   "cell_type": "code",
   "execution_count": 35,
   "metadata": {},
   "outputs": [
    {
     "data": {
      "text/plain": "NaN      29\n86.0      3\n495.0     2\n112.0     2\n390.0     2\nName: Cases_Guinea, dtype: int64"
     },
     "execution_count": 35,
     "metadata": {},
     "output_type": "execute_result"
    }
   ],
   "source": [
    "ebola.Cases_Guinea.value_counts(dropna=False).head()"
   ]
  },
  {
   "cell_type": "code",
   "execution_count": 36,
   "metadata": {},
   "outputs": [
    {
     "name": "stdout",
     "output_type": "stream",
     "text": "Date  Day  Cases_Guinea  Cases_Liberia  Cases_SierraLeone\n0    1/5/2015  289        2776.0            0.0            10030.0\n1    1/4/2015  288        2775.0            0.0             9780.0\n2    1/3/2015  287        2769.0         8166.0             9722.0\n3    1/2/2015  286           0.0         8157.0                0.0\n4  12/31/2014  284        2730.0         8115.0             9633.0\n5  12/28/2014  281        2706.0         8018.0             9446.0\n6  12/27/2014  280        2695.0            0.0             9409.0\n7  12/24/2014  277        2630.0         7977.0             9203.0\n8  12/21/2014  273        2597.0            0.0             9004.0\n9  12/20/2014  272        2571.0         7862.0             8939.0\n"
    }
   ],
   "source": [
    "print(ebola.fillna(0).iloc[0:10, 0:5])"
   ]
  },
  {
   "cell_type": "code",
   "execution_count": 37,
   "metadata": {},
   "outputs": [
    {
     "name": "stdout",
     "output_type": "stream",
     "text": "Date  Day  Cases_Guinea  Cases_Liberia  Cases_SierraLeone\n0    1/5/2015  289        2776.0            NaN            10030.0\n1    1/4/2015  288        2775.0            NaN             9780.0\n2    1/3/2015  287        2769.0         8166.0             9722.0\n3    1/2/2015  286        2769.0         8157.0             9722.0\n4  12/31/2014  284        2730.0         8115.0             9633.0\n5  12/28/2014  281        2706.0         8018.0             9446.0\n6  12/27/2014  280        2695.0         8018.0             9409.0\n7  12/24/2014  277        2630.0         7977.0             9203.0\n8  12/21/2014  273        2597.0         7977.0             9004.0\n9  12/20/2014  272        2571.0         7862.0             8939.0\n"
    }
   ],
   "source": [
    "print(ebola.fillna(method='ffill').iloc[0:10, 0:5])"
   ]
  },
  {
   "cell_type": "code",
   "execution_count": 38,
   "metadata": {},
   "outputs": [
    {
     "name": "stdout",
     "output_type": "stream",
     "text": "Date  Day  Cases_Guinea  Cases_Liberia  Cases_SierraLeone\n0    1/5/2015  289        2776.0         8166.0            10030.0\n1    1/4/2015  288        2775.0         8166.0             9780.0\n2    1/3/2015  287        2769.0         8166.0             9722.0\n3    1/2/2015  286        2730.0         8157.0             9633.0\n4  12/31/2014  284        2730.0         8115.0             9633.0\n5  12/28/2014  281        2706.0         8018.0             9446.0\n6  12/27/2014  280        2695.0         7977.0             9409.0\n7  12/24/2014  277        2630.0         7977.0             9203.0\n8  12/21/2014  273        2597.0         7862.0             9004.0\n9  12/20/2014  272        2571.0         7862.0             8939.0\n"
    }
   ],
   "source": [
    "print(ebola.fillna(method='bfill').iloc[0:10, 0:5])"
   ]
  },
  {
   "cell_type": "code",
   "execution_count": 39,
   "metadata": {},
   "outputs": [
    {
     "data": {
      "text/plain": "(122, 18)"
     },
     "execution_count": 39,
     "metadata": {},
     "output_type": "execute_result"
    }
   ],
   "source": [
    "ebola.shape"
   ]
  },
  {
   "cell_type": "code",
   "execution_count": 40,
   "metadata": {},
   "outputs": [
    {
     "name": "stdout",
     "output_type": "stream",
     "text": "Date  Day  Cases_Guinea  Cases_Liberia  Cases_SierraLeone\n0    1/5/2015  289        2776.0            NaN            10030.0\n1    1/4/2015  288        2775.0            NaN             9780.0\n2    1/3/2015  287        2769.0         8166.0             9722.0\n3    1/2/2015  286        2749.5         8157.0             9677.5\n4  12/31/2014  284        2730.0         8115.0             9633.0\n5  12/28/2014  281        2706.0         8018.0             9446.0\n6  12/27/2014  280        2695.0         7997.5             9409.0\n7  12/24/2014  277        2630.0         7977.0             9203.0\n8  12/21/2014  273        2597.0         7919.5             9004.0\n9  12/20/2014  272        2571.0         7862.0             8939.0\n"
    }
   ],
   "source": [
    "print(ebola.interpolate().iloc[0:10, 0:5])"
   ]
  },
  {
   "cell_type": "code",
   "execution_count": 41,
   "metadata": {},
   "outputs": [
    {
     "name": "stdout",
     "output_type": "stream",
     "text": "(1, 18)\n"
    }
   ],
   "source": [
    "ebola_dropna = ebola.dropna() \n",
    "print(ebola_dropna.shape)"
   ]
  },
  {
   "cell_type": "code",
   "execution_count": 42,
   "metadata": {},
   "outputs": [
    {
     "data": {
      "text/html": "<div>\n<style scoped>\n    .dataframe tbody tr th:only-of-type {\n        vertical-align: middle;\n    }\n\n    .dataframe tbody tr th {\n        vertical-align: top;\n    }\n\n    .dataframe thead th {\n        text-align: right;\n    }\n</style>\n<table border=\"1\" class=\"dataframe\">\n  <thead>\n    <tr style=\"text-align: right;\">\n      <th></th>\n      <th>Date</th>\n      <th>Day</th>\n      <th>Cases_Guinea</th>\n      <th>Cases_Liberia</th>\n      <th>Cases_SierraLeone</th>\n      <th>Cases_Nigeria</th>\n      <th>Cases_Senegal</th>\n      <th>Cases_UnitedStates</th>\n      <th>Cases_Spain</th>\n      <th>Cases_Mali</th>\n      <th>Deaths_Guinea</th>\n      <th>Deaths_Liberia</th>\n      <th>Deaths_SierraLeone</th>\n      <th>Deaths_Nigeria</th>\n      <th>Deaths_Senegal</th>\n      <th>Deaths_UnitedStates</th>\n      <th>Deaths_Spain</th>\n      <th>Deaths_Mali</th>\n    </tr>\n  </thead>\n  <tbody>\n    <tr>\n      <td>19</td>\n      <td>11/18/2014</td>\n      <td>241</td>\n      <td>2047.0</td>\n      <td>7082.0</td>\n      <td>6190.0</td>\n      <td>20.0</td>\n      <td>1.0</td>\n      <td>4.0</td>\n      <td>1.0</td>\n      <td>6.0</td>\n      <td>1214.0</td>\n      <td>2963.0</td>\n      <td>1267.0</td>\n      <td>8.0</td>\n      <td>0.0</td>\n      <td>1.0</td>\n      <td>0.0</td>\n      <td>6.0</td>\n    </tr>\n  </tbody>\n</table>\n</div>",
      "text/plain": "          Date  Day  Cases_Guinea  Cases_Liberia  Cases_SierraLeone  \\\n19  11/18/2014  241        2047.0         7082.0             6190.0   \n\n    Cases_Nigeria  Cases_Senegal  Cases_UnitedStates  Cases_Spain  Cases_Mali  \\\n19           20.0            1.0                 4.0          1.0         6.0   \n\n    Deaths_Guinea  Deaths_Liberia  Deaths_SierraLeone  Deaths_Nigeria  \\\n19         1214.0          2963.0              1267.0             8.0   \n\n    Deaths_Senegal  Deaths_UnitedStates  Deaths_Spain  Deaths_Mali  \n19             0.0                  1.0           0.0          6.0  "
     },
     "execution_count": 42,
     "metadata": {},
     "output_type": "execute_result"
    }
   ],
   "source": [
    "ebola_dropna"
   ]
  },
  {
   "cell_type": "code",
   "execution_count": null,
   "metadata": {},
   "outputs": [],
   "source": []
  }
 ]
}